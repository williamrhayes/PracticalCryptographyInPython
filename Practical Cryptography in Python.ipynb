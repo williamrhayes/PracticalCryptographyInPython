{
 "cells": [
  {
   "cell_type": "markdown",
   "metadata": {},
   "source": [
    "# Practical Cryptography in Python: Working Notebook\n",
    "\n",
    "#### This notebook consists of my working solutions to the Practical Cryptography in Python workbook"
   ]
  },
  {
   "cell_type": "code",
   "execution_count": 1,
   "metadata": {},
   "outputs": [],
   "source": [
    "# Needed to install from \n",
    "# https://www.lfd.uci.edu/~gohlke/pythonlibs/#gmpy\n",
    "# Thanks to\n",
    "# https://stackoverflow.com/questions/58421429/python-pip-install-gmpy-on-windows-10-returns-cl-exe-failed-with-exit-statu\n",
    "import gmpy2 "
   ]
  },
  {
   "cell_type": "markdown",
   "metadata": {},
   "source": [
    "## Chapter 1 - Cryptography: More than Secrecy"
   ]
  },
  {
   "cell_type": "markdown",
   "metadata": {},
   "source": [
    "### Excersize 1.1 - Shift (Ceaser) Cypher Encoder"
   ]
  },
  {
   "cell_type": "code",
   "execution_count": 16,
   "metadata": {
    "scrolled": true
   },
   "outputs": [
    {
     "data": {
      "text/plain": [
       "['TOBEORNOTTOBETHATISTHEQUESTOIN',\n",
       " 'UPCFPSOPUUPCFUIBUJTUIFRVFTUPJO',\n",
       " 'VQDGQTPQVVQDGVJCVKUVJGSWGUVQKP',\n",
       " 'WREHRUQRWWREHWKDWLVWKHTXHVWRLQ',\n",
       " 'XSFISVRSXXSFIXLEXMWXLIUYIWXSMR',\n",
       " 'YTGJTWSTYYTGJYMFYNXYMJVZJXYTNS',\n",
       " 'ZUHKUXTUZZUHKZNGZOYZNKWAKYZUOT',\n",
       " 'AVILVYUVAAVILAOHAPZAOLXBLZAVPU',\n",
       " 'BWJMWZVWBBWJMBPIBQABPMYCMABWQV',\n",
       " 'CXKNXAWXCCXKNCQJCRBCQNZDNBCXRW',\n",
       " 'DYLOYBXYDDYLODRKDSCDROAEOCDYSX',\n",
       " 'EZMPZCYZEEZMPESLETDESPBFPDEZTY',\n",
       " 'FANQADZAFFANQFTMFUEFTQCGQEFAUZ',\n",
       " 'GBORBEABGGBORGUNGVFGURDHRFGBVA',\n",
       " 'HCPSCFBCHHCPSHVOHWGHVSEISGHCWB',\n",
       " 'IDQTDGCDIIDQTIWPIXHIWTFJTHIDXC',\n",
       " 'JERUEHDEJJERUJXQJYIJXUGKUIJEYD',\n",
       " 'KFSVFIEFKKFSVKYRKZJKYVHLVJKFZE',\n",
       " 'LGTWGJFGLLGTWLZSLAKLZWIMWKLGAF',\n",
       " 'MHUXHKGHMMHUXMATMBLMAXJNXLMHBG',\n",
       " 'NIVYILHINNIVYNBUNCMNBYKOYMNICH',\n",
       " 'OJWZJMIJOOJWZOCVODNOCZLPZNOJDI',\n",
       " 'PKXAKNJKPPKXAPDWPEOPDAMQAOPKEJ',\n",
       " 'QLYBLOKLQQLYBQEXQFPQEBNRBPQLFK',\n",
       " 'RMZCMPLMRRMZCRFYRGQRFCOSCQRMGL',\n",
       " 'SNADNQMNSSNADSGZSHRSGDPTDRSNHM',\n",
       " 'TOBEORNOTTOBETHATISTHEQUESTOIN']"
      ]
     },
     "execution_count": 16,
     "metadata": {},
     "output_type": "execute_result"
    }
   ],
   "source": [
    "from collections import deque\n",
    "\n",
    "# Generates the relationship between \n",
    "# characters; or the shift that the \n",
    "# alphabet is rotated\n",
    "def create_shift(shift, decoding=False):\n",
    "    # Build an alphabet deque that can be rotated\n",
    "    alphabet_ascii_values = range(ord('A'), ord('Z')+1)\n",
    "    alphabet = deque([chr(val) for val in alphabet_ascii_values])\n",
    "    \n",
    "    # Save the ordered alphabet\n",
    "    ordered_alphabet = list(alphabet)\n",
    "    \n",
    "    # Rotate based on the shift value\n",
    "    alphabet.rotate(shift)\n",
    "    \n",
    "    # Save the shifted alphabet AFTER it has been rotated\n",
    "    shifted_alphabet = list(alphabet)\n",
    "    \n",
    "    # Which character is the key and which character is the\n",
    "    # value depends on whether we want to encode or decode\n",
    "    # the string. In this instance, encoding is ordered to\n",
    "    # shifted and decoding is shifted to ordered.\n",
    "    if decoding:\n",
    "        return dict(zip(shifted_alphabet, ordered_alphabet))\n",
    "    else:\n",
    "        return dict(zip(ordered_alphabet, shifted_alphabet))\n",
    "\n",
    "# Take a string and encode it into gibberish!\n",
    "def ceaser_encode(msg, shift=0):\n",
    "    shift_key = create_shift(shift)\n",
    "    encoded_str = [shift_key[character] for character in msg.upper()]\n",
    "    return ''.join(encoded_str)\n",
    "\n",
    "# Take gibberish and decode it into English!\n",
    "def ceaser_decode(msg, shift=0):\n",
    "    shift_key = create_shift(shift, decoding=True)\n",
    "    encoded_str = [shift_key[character] for character in msg.upper()]\n",
    "    return ''.join(encoded_str)\n",
    "\n",
    "def printable_substitution(shift):\n",
    "    alphabet_char, encoded_char = create_shift(shift)\n",
    "    return \"{alphabet_char} -> {encoded_char}\".format(alphabet_char, encoded_char)\n",
    "\n",
    "# Return all of the possible\n",
    "# different shifts and codes\n",
    "def brute_force_ceaser(msg):\n",
    "    return [ceaser_decode(msg, shift) for shift in range(27)]\n",
    "\n",
    "code = \"TOBEORNOTTOBETHATISTHEQUESTOIN\"\n",
    "brute_force_ceaser(code)"
   ]
  },
  {
   "cell_type": "markdown",
   "metadata": {},
   "source": [
    "### Excersize 1.2 - Automated Decoding"
   ]
  },
  {
   "cell_type": "code",
   "execution_count": 38,
   "metadata": {
    "scrolled": true
   },
   "outputs": [
    {
     "data": {
      "text/html": [
       "<div>\n",
       "<style scoped>\n",
       "    .dataframe tbody tr th:only-of-type {\n",
       "        vertical-align: middle;\n",
       "    }\n",
       "\n",
       "    .dataframe tbody tr th {\n",
       "        vertical-align: top;\n",
       "    }\n",
       "\n",
       "    .dataframe thead th {\n",
       "        text-align: right;\n",
       "    }\n",
       "</style>\n",
       "<table border=\"1\" class=\"dataframe\">\n",
       "  <thead>\n",
       "    <tr style=\"text-align: right;\">\n",
       "      <th></th>\n",
       "      <th>Words Found</th>\n",
       "    </tr>\n",
       "  </thead>\n",
       "  <tbody>\n",
       "    <tr>\n",
       "      <th>TOBEORNOTTOBETHATISTHEQUESTOIN</th>\n",
       "      <td>42</td>\n",
       "    </tr>\n",
       "    <tr>\n",
       "      <th>GBORBEABGGBORGUNGVFGURDHRFGBVA</th>\n",
       "      <td>33</td>\n",
       "    </tr>\n",
       "    <tr>\n",
       "      <th>SNADNQMNSSNADSGZSHRSGDPTDRSNHM</th>\n",
       "      <td>32</td>\n",
       "    </tr>\n",
       "    <tr>\n",
       "      <th>RMZCMPLMRRMZCRFYRGQRFCOSCQRMGL</th>\n",
       "      <td>32</td>\n",
       "    </tr>\n",
       "    <tr>\n",
       "      <th>IDQTDGCDIIDQTIWPIXHIWTFJTHIDXC</th>\n",
       "      <td>30</td>\n",
       "    </tr>\n",
       "    <tr>\n",
       "      <th>EZMPZCYZEEZMPESLETDESPBFPDEZTY</th>\n",
       "      <td>29</td>\n",
       "    </tr>\n",
       "    <tr>\n",
       "      <th>NIVYILHINNIVYNBUNCMNBYKOYMNICH</th>\n",
       "      <td>29</td>\n",
       "    </tr>\n",
       "    <tr>\n",
       "      <th>MHUXHKGHMMHUXMATMBLMAXJNXLMHBG</th>\n",
       "      <td>29</td>\n",
       "    </tr>\n",
       "    <tr>\n",
       "      <th>AVILVYUVAAVILAOHAPZAOLXBLZAVPU</th>\n",
       "      <td>29</td>\n",
       "    </tr>\n",
       "    <tr>\n",
       "      <th>UPCFPSOPUUPCFUIBUJTUIFRVFTUPJO</th>\n",
       "      <td>29</td>\n",
       "    </tr>\n",
       "    <tr>\n",
       "      <th>HCPSCFBCHHCPSHVOHWGHVSEISGHCWB</th>\n",
       "      <td>28</td>\n",
       "    </tr>\n",
       "    <tr>\n",
       "      <th>XSFISVRSXXSFIXLEXMWXLIUYIWXSMR</th>\n",
       "      <td>28</td>\n",
       "    </tr>\n",
       "    <tr>\n",
       "      <th>FANQADZAFFANQFTMFUEFTQCGQEFAUZ</th>\n",
       "      <td>27</td>\n",
       "    </tr>\n",
       "    <tr>\n",
       "      <th>BWJMWZVWBBWJMBPIBQABPMYCMABWQV</th>\n",
       "      <td>26</td>\n",
       "    </tr>\n",
       "    <tr>\n",
       "      <th>LGTWGJFGLLGTWLZSLAKLZWIMWKLGAF</th>\n",
       "      <td>25</td>\n",
       "    </tr>\n",
       "    <tr>\n",
       "      <th>PKXAKNJKPPKXAPDWPEOPDAMQAOPKEJ</th>\n",
       "      <td>25</td>\n",
       "    </tr>\n",
       "    <tr>\n",
       "      <th>CXKNXAWXCCXKNCQJCRBCQNZDNBCXRW</th>\n",
       "      <td>24</td>\n",
       "    </tr>\n",
       "    <tr>\n",
       "      <th>OJWZJMIJOOJWZOCVODNOCZLPZNOJDI</th>\n",
       "      <td>23</td>\n",
       "    </tr>\n",
       "    <tr>\n",
       "      <th>DYLOYBXYDDYLODRKDSCDROAEOCDYSX</th>\n",
       "      <td>22</td>\n",
       "    </tr>\n",
       "    <tr>\n",
       "      <th>WREHRUQRWWREHWKDWLVWKHTXHVWRLQ</th>\n",
       "      <td>22</td>\n",
       "    </tr>\n",
       "    <tr>\n",
       "      <th>ZUHKUXTUZZUHKZNGZOYZNKWAKYZUOT</th>\n",
       "      <td>22</td>\n",
       "    </tr>\n",
       "    <tr>\n",
       "      <th>YTGJTWSTYYTGJYMFYNXYMJVZJXYTNS</th>\n",
       "      <td>21</td>\n",
       "    </tr>\n",
       "    <tr>\n",
       "      <th>QLYBLOKLQQLYBQEXQFPQEBNRBPQLFK</th>\n",
       "      <td>21</td>\n",
       "    </tr>\n",
       "    <tr>\n",
       "      <th>JERUEHDEJJERUJXQJYIJXUGKUIJEYD</th>\n",
       "      <td>20</td>\n",
       "    </tr>\n",
       "    <tr>\n",
       "      <th>KFSVFIEFKKFSVKYRKZJKYVHLVJKFZE</th>\n",
       "      <td>20</td>\n",
       "    </tr>\n",
       "    <tr>\n",
       "      <th>VQDGQTPQVVQDGVJCVKUVJGSWGUVQKP</th>\n",
       "      <td>20</td>\n",
       "    </tr>\n",
       "  </tbody>\n",
       "</table>\n",
       "</div>"
      ],
      "text/plain": [
       "                                Words Found\n",
       "TOBEORNOTTOBETHATISTHEQUESTOIN           42\n",
       "GBORBEABGGBORGUNGVFGURDHRFGBVA           33\n",
       "SNADNQMNSSNADSGZSHRSGDPTDRSNHM           32\n",
       "RMZCMPLMRRMZCRFYRGQRFCOSCQRMGL           32\n",
       "IDQTDGCDIIDQTIWPIXHIWTFJTHIDXC           30\n",
       "EZMPZCYZEEZMPESLETDESPBFPDEZTY           29\n",
       "NIVYILHINNIVYNBUNCMNBYKOYMNICH           29\n",
       "MHUXHKGHMMHUXMATMBLMAXJNXLMHBG           29\n",
       "AVILVYUVAAVILAOHAPZAOLXBLZAVPU           29\n",
       "UPCFPSOPUUPCFUIBUJTUIFRVFTUPJO           29\n",
       "HCPSCFBCHHCPSHVOHWGHVSEISGHCWB           28\n",
       "XSFISVRSXXSFIXLEXMWXLIUYIWXSMR           28\n",
       "FANQADZAFFANQFTMFUEFTQCGQEFAUZ           27\n",
       "BWJMWZVWBBWJMBPIBQABPMYCMABWQV           26\n",
       "LGTWGJFGLLGTWLZSLAKLZWIMWKLGAF           25\n",
       "PKXAKNJKPPKXAPDWPEOPDAMQAOPKEJ           25\n",
       "CXKNXAWXCCXKNCQJCRBCQNZDNBCXRW           24\n",
       "OJWZJMIJOOJWZOCVODNOCZLPZNOJDI           23\n",
       "DYLOYBXYDDYLODRKDSCDROAEOCDYSX           22\n",
       "WREHRUQRWWREHWKDWLVWKHTXHVWRLQ           22\n",
       "ZUHKUXTUZZUHKZNGZOYZNKWAKYZUOT           22\n",
       "YTGJTWSTYYTGJYMFYNXYMJVZJXYTNS           21\n",
       "QLYBLOKLQQLYBQEXQFPQEBNRBPQLFK           21\n",
       "JERUEHDEJJERUJXQJYIJXUGKUIJEYD           20\n",
       "KFSVFIEFKKFSVKYRKZJKYVHLVJKFZE           20\n",
       "VQDGQTPQVVQDGVJCVKUVJGSWGUVQKP           20"
      ]
     },
     "execution_count": 38,
     "metadata": {},
     "output_type": "execute_result"
    }
   ],
   "source": [
    "import pandas as pd\n",
    "\n",
    "# Import a list of the 10,000 most common\n",
    "# words used in English\n",
    "common_words = pd.read_csv(r'./data/unigram_freq.csv').iloc[:10_000]\n",
    "\n",
    "most_common_words = common_words.word.values\n",
    "\n",
    "# Generate a list of all possible 26 shifts\n",
    "# of the Ceaser Cypher\n",
    "all_shifts = brute_force_ceaser(code)\n",
    "\n",
    "# For each shift of the ceaser cypher, count\n",
    "# how many times each of the most_common_words\n",
    "# appears within the cypher\n",
    "word_frequency = {}\n",
    "for shift in all_shifts:\n",
    "    word_frequency[shift] = 0\n",
    "    for word in most_common_words:\n",
    "        if (word==word) and (word in shift.lower()):\n",
    "            word_frequency[shift] += 1\n",
    "\n",
    "# Convert the substring frequency to a \n",
    "# dataframe for a cleaner output\n",
    "word_freq_df = pd.DataFrame.from_dict(word_frequency, orient='index')\n",
    "word_freq_df.columns = [\"Words Found\"]\n",
    "word_freq_df.sort_values(by=\"Words Found\", ascending=False, inplace=True)\n",
    "\n",
    "word_freq_df"
   ]
  },
  {
   "cell_type": "markdown",
   "metadata": {},
   "source": [
    "### Excersize 1.3 - A Strong Substitution Cypher\n",
    "#### Instead of shifting the alphabet by one, the alphabet is randomly scrambled"
   ]
  },
  {
   "cell_type": "code",
   "execution_count": 41,
   "metadata": {
    "scrolled": true
   },
   "outputs": [
    {
     "data": {
      "text/plain": [
       "{'A': 'Y',\n",
       " 'B': 'Z',\n",
       " 'C': 'V',\n",
       " 'D': 'S',\n",
       " 'E': 'W',\n",
       " 'F': 'D',\n",
       " 'G': 'P',\n",
       " 'H': 'Q',\n",
       " 'I': 'E',\n",
       " 'J': 'H',\n",
       " 'K': 'K',\n",
       " 'L': 'N',\n",
       " 'M': 'T',\n",
       " 'N': 'J',\n",
       " 'O': 'O',\n",
       " 'P': 'G',\n",
       " 'Q': 'C',\n",
       " 'R': 'I',\n",
       " 'S': 'X',\n",
       " 'T': 'B',\n",
       " 'U': 'M',\n",
       " 'V': 'A',\n",
       " 'W': 'R',\n",
       " 'X': 'F',\n",
       " 'Y': 'U',\n",
       " 'Z': 'L'}"
      ]
     },
     "execution_count": 41,
     "metadata": {},
     "output_type": "execute_result"
    }
   ],
   "source": [
    "import random\n",
    "\n",
    "# Generates the relationship between \n",
    "# characters; or the shift that the \n",
    "# alphabet is rotated\n",
    "def create_rando_shift():\n",
    "    # Build an alphabet deque that can be rotated\n",
    "    alphabet_ascii_values = range(ord('A'), ord('Z')+1)\n",
    "    alphabet = [chr(val) for val in alphabet_ascii_values]\n",
    "    \n",
    "    # Get our original alphabet\n",
    "    ordered_alphabet = alphabet[:]\n",
    "    \n",
    "    # Jumble the letters\n",
    "    random.shuffle(alphabet)\n",
    "    \n",
    "    # Get our jumbled list\n",
    "    shuffled_alphabet = alphabet\n",
    "    \n",
    "    # Return our encoding shift!\n",
    "    return dict(zip(ordered_alphabet, shuffled_alphabet))\n",
    "\n",
    "# Take a string and encode it into gibberish!\n",
    "def rando_encode(msg, shift_key):\n",
    "    for character in msg.upper():\n",
    "        print(character, shift_key[character])\n",
    "    encoded_str = [shift_key[character] for character in msg.upper()]\n",
    "    return ''.join(encoded_str)\n",
    "\n",
    "def printable_substitution(shift):\n",
    "    alphabet_char, encoded_char = create_shift(shift)\n",
    "    return \"{alphabet_char} -> {encoded_char}\".format(alphabet_char, encoded_char)\n",
    "\n",
    "# Return all of the possible\n",
    "# different shifts and codes\n",
    "def brute_force_ceaser(msg):\n",
    "    return [ceaser_decode(msg, shift) for shift in range(27)]\n",
    "\n",
    "shift = create_rando_shift()\n",
    "shift"
   ]
  },
  {
   "cell_type": "markdown",
   "metadata": {},
   "source": [
    "### Excercise 1.4 - Count the Dictionaries"
   ]
  },
  {
   "cell_type": "markdown",
   "metadata": {},
   "source": [
    "#### Q: How many substitution dictionaries are possible for the cryptogram-style substitution in excercise 1.3?\n",
    "#### A: Since the alphabet is a set of 26 characters and these 26 characters are randomly scrambled, there should be 26! (4.033e+26) different possible substitution dictionaries. This is because when we start assigning characters to our dictionary we can assign A to be any of the other 26 possible characters in the alphabet. We can then assign B to any of the 25 remaining characters, C to any of the 24 remaining characters, etc. We repeat this process 25 more times to get 26*(26-1)*(26-2)... = 26!"
   ]
  },
  {
   "cell_type": "markdown",
   "metadata": {},
   "source": [
    "# Chapter 2 - Hashing"
   ]
  },
  {
   "cell_type": "markdown",
   "metadata": {},
   "source": [
    "### Excersize 2.1 - Welcome to MD5"
   ]
  },
  {
   "cell_type": "code",
   "execution_count": 5,
   "metadata": {},
   "outputs": [
    {
     "data": {
      "text/plain": [
       "'d41d8cd98f00b204e9800998ecf8427e'"
      ]
     },
     "execution_count": 5,
     "metadata": {},
     "output_type": "execute_result"
    }
   ],
   "source": [
    "import hashlib\n",
    "# As the author warns, MD5 is not\n",
    "# a secure hashing algorithm for \n",
    "# encryption.\n",
    "md5hasher = hashlib.md5()\n",
    "md5hasher.hexdigest()"
   ]
  },
  {
   "cell_type": "code",
   "execution_count": 6,
   "metadata": {},
   "outputs": [
    {
     "data": {
      "text/plain": [
       "'6384e2b2184bcbf58eccf10ca7a6563c'"
      ]
     },
     "execution_count": 6,
     "metadata": {},
     "output_type": "execute_result"
    }
   ],
   "source": [
    "hashlib.md5(b'alice').hexdigest()"
   ]
  },
  {
   "cell_type": "code",
   "execution_count": 7,
   "metadata": {},
   "outputs": [
    {
     "data": {
      "text/plain": [
       "'9f9d51bc70ef21ca5c14f307980a29d8'"
      ]
     },
     "execution_count": 7,
     "metadata": {},
     "output_type": "execute_result"
    }
   ],
   "source": [
    "hashlib.md5(b'bob').hexdigest()"
   ]
  },
  {
   "cell_type": "code",
   "execution_count": 8,
   "metadata": {},
   "outputs": [
    {
     "data": {
      "text/plain": [
       "'6384e2b2184bcbf58eccf10ca7a6563c9f9d51bc70ef21ca5c14f307980a29d8'"
      ]
     },
     "execution_count": 8,
     "metadata": {},
     "output_type": "execute_result"
    }
   ],
   "source": [
    "hashlib.md5(b'alice').hexdigest() + hashlib.md5(b'bob').hexdigest()"
   ]
  },
  {
   "cell_type": "code",
   "execution_count": 9,
   "metadata": {},
   "outputs": [
    {
     "data": {
      "text/plain": [
       "'6384e2b2184bcbf58eccf10ca7a6563c'"
      ]
     },
     "execution_count": 9,
     "metadata": {},
     "output_type": "execute_result"
    }
   ],
   "source": [
    "hashlib.md5(b'alice').hexdigest()"
   ]
  },
  {
   "cell_type": "code",
   "execution_count": 10,
   "metadata": {},
   "outputs": [
    {
     "data": {
      "text/plain": [
       "'ec0048c7d6b5a11cdb261b71a813eff3'"
      ]
     },
     "execution_count": 10,
     "metadata": {},
     "output_type": "execute_result"
    }
   ],
   "source": [
    "hashlib.md5(b'alicebob').hexdigest()"
   ]
  },
  {
   "cell_type": "code",
   "execution_count": 11,
   "metadata": {},
   "outputs": [
    {
     "data": {
      "text/plain": [
       "'6ca003d00c9bb4569a4a27d751db7a89'"
      ]
     },
     "execution_count": 11,
     "metadata": {},
     "output_type": "execute_result"
    }
   ],
   "source": [
    "hashlib.md5(b'aaa'*1000).hexdigest()"
   ]
  },
  {
   "cell_type": "code",
   "execution_count": 12,
   "metadata": {},
   "outputs": [
    {
     "data": {
      "text/plain": [
       "32"
      ]
     },
     "execution_count": 12,
     "metadata": {},
     "output_type": "execute_result"
    }
   ],
   "source": [
    "len('6ca003d00c9bb4569a4a27d751db7a89')"
   ]
  },
  {
   "cell_type": "markdown",
   "metadata": {},
   "source": [
    "#### I learned that each unique string (or binary representation of a string) has a unique hash result. Regardless of the length of the input string, the output string always has a length of 32 characters."
   ]
  },
  {
   "cell_type": "code",
   "execution_count": 42,
   "metadata": {},
   "outputs": [
    {
     "data": {
      "text/plain": [
       "'6384e2b2184bcbf58eccf10ca7a6563c'"
      ]
     },
     "execution_count": 42,
     "metadata": {},
     "output_type": "execute_result"
    }
   ],
   "source": [
    "md5hasher = hashlib.md5()\n",
    "md5hasher.update(b'a')\n",
    "md5hasher.update(b'l')\n",
    "md5hasher.update(b'i')\n",
    "md5hasher.update(b'c')\n",
    "md5hasher.update(b'e')\n",
    "\n",
    "# Even as the hash is formed letter by letter,\n",
    "# each hash of \"a\", \"al\", \"ali\", \"alic\" is \n",
    "# unrecognizable from the full hash of the \n",
    "# name \"alice\"\n",
    "md5hasher.hexdigest()"
   ]
  },
  {
   "cell_type": "markdown",
   "metadata": {},
   "source": [
    "### Excersize 2.2 - Google Knows!"
   ]
  },
  {
   "cell_type": "markdown",
   "metadata": {},
   "source": [
    "#### 5f4dcc3b5aa765d61d8327deb882cf99 - Google already identifies this as an MD5 hash of 'password'; probably why the author warns that this is NOT a secure encryption method!"
   ]
  },
  {
   "cell_type": "markdown",
   "metadata": {},
   "source": [
    "### Aside - Collisions in Birthdays: Simulating the \"Same Birthday\" Theory"
   ]
  },
  {
   "cell_type": "code",
   "execution_count": 112,
   "metadata": {},
   "outputs": [],
   "source": [
    "import numpy as np\n",
    "from tqdm import tqdm\n",
    "import plotly.express as px\n",
    "import plotly.graph_objects as go\n",
    "from collections import Counter"
   ]
  },
  {
   "cell_type": "code",
   "execution_count": 121,
   "metadata": {
    "scrolled": true
   },
   "outputs": [
    {
     "data": {
      "application/vnd.plotly.v1+json": {
       "config": {
        "plotlyServerURL": "https://plot.ly"
       },
       "data": [
        {
         "name": "2 Shared Birthdays",
         "type": "bar",
         "width": [
          0.6,
          0.6,
          0.6,
          0.6,
          0.6,
          0.6,
          0.6,
          0.6,
          0.6,
          0.6,
          0.6,
          0.6,
          0.6,
          0.6,
          0.6,
          0.6,
          0.6,
          0.6,
          0.6,
          0.6,
          0.6,
          0.6,
          0.6,
          0.6,
          0.6,
          0.6,
          0.6,
          0.6,
          0.6,
          0.6,
          0.6,
          0.6,
          0.6,
          0.6,
          0.6,
          0.6,
          0.6,
          0.6,
          0.6,
          0.6,
          0.6,
          0.6,
          0.6,
          0.6,
          0.6,
          0.6,
          0.6,
          0.6,
          0.6,
          0.6,
          0.6,
          0.6,
          0.6,
          0.6,
          0.6,
          0.6,
          0.6,
          0.6,
          0.6,
          0.6,
          0.6,
          0.6,
          0.6,
          0.6,
          0.6,
          0.6,
          0.6,
          0.6,
          0.6,
          0.6,
          0.6,
          0.6,
          0.6,
          0.6,
          0.6,
          0.6,
          0.6,
          0.6,
          0.6,
          0.6,
          0.6,
          0.6,
          0.6,
          0.6,
          0.6,
          0.6,
          0.6,
          0.6,
          0.6,
          0.6,
          0.6,
          0.6,
          0.6,
          0.6,
          0.6,
          0.6,
          0.6,
          0.6,
          0.6,
          0.6
         ],
         "y": [
          0,
          0.0025,
          0.0078,
          0.0154,
          0.0276,
          0.0384,
          0.0558,
          0.078,
          0.0959,
          0.1153,
          0.1429,
          0.1735,
          0.1905,
          0.217,
          0.2547,
          0.2851,
          0.313,
          0.3508,
          0.37799999999999995,
          0.4146,
          0.4403,
          0.4796,
          0.5035,
          0.5395,
          0.5635,
          0.5989,
          0.6234,
          0.6459,
          0.6864,
          0.7062,
          0.7346,
          0.7564,
          0.7722,
          0.8008,
          0.8219,
          0.8281,
          0.8555,
          0.8647,
          0.8727,
          0.8945,
          0.9055,
          0.9136,
          0.9291,
          0.9312,
          0.9399,
          0.9471,
          0.9568,
          0.9606,
          0.9671,
          0.97,
          0.975,
          0.9781,
          0.9815,
          0.9833,
          0.9874,
          0.9890000000000001,
          0.9890000000000001,
          0.9907,
          0.9936,
          0.9952,
          0.9947,
          0.9951,
          0.996,
          0.9973,
          0.997,
          0.9983,
          0.9979,
          0.9988,
          0.9991,
          0.9993,
          0.9992,
          0.9997,
          0.9995,
          0.9998,
          0.9999,
          0.9997,
          0.9999,
          0.9997,
          0.9998,
          0.9998,
          0.9999,
          1,
          1,
          1,
          1,
          1,
          1,
          1,
          1,
          1,
          1,
          0.9999,
          1,
          1,
          1,
          1,
          1,
          1,
          1,
          1
         ]
        },
        {
         "name": "3 Shared Birthdays",
         "type": "bar",
         "width": [
          0.6,
          0.6,
          0.6,
          0.6,
          0.6,
          0.6,
          0.6,
          0.6,
          0.6,
          0.6,
          0.6,
          0.6,
          0.6,
          0.6,
          0.6,
          0.6,
          0.6,
          0.6,
          0.6,
          0.6,
          0.6,
          0.6,
          0.6,
          0.6,
          0.6,
          0.6,
          0.6,
          0.6,
          0.6,
          0.6,
          0.6,
          0.6,
          0.6,
          0.6,
          0.6,
          0.6,
          0.6,
          0.6,
          0.6,
          0.6,
          0.6,
          0.6,
          0.6,
          0.6,
          0.6,
          0.6,
          0.6,
          0.6,
          0.6,
          0.6,
          0.6,
          0.6,
          0.6,
          0.6,
          0.6,
          0.6,
          0.6,
          0.6,
          0.6,
          0.6,
          0.6,
          0.6,
          0.6,
          0.6,
          0.6,
          0.6,
          0.6,
          0.6,
          0.6,
          0.6,
          0.6,
          0.6,
          0.6,
          0.6,
          0.6,
          0.6,
          0.6,
          0.6,
          0.6,
          0.6,
          0.6,
          0.6,
          0.6,
          0.6,
          0.6,
          0.6,
          0.6,
          0.6,
          0.6,
          0.6,
          0.6,
          0.6,
          0.6,
          0.6,
          0.6,
          0.6,
          0.6,
          0.6,
          0.6,
          0.6
         ],
         "y": [
          0,
          0,
          0,
          0,
          0,
          0.0001,
          0.0001,
          0.0004,
          0.0006,
          0.0004,
          0.0013,
          0.0013,
          0.0026,
          0.0025,
          0.0026,
          0.0043,
          0.005,
          0.0068,
          0.0073,
          0.006999999999999999,
          0.0099,
          0.0113,
          0.0132,
          0.0158,
          0.0163,
          0.0181,
          0.0194,
          0.0237,
          0.0267,
          0.0276,
          0.0318,
          0.0352,
          0.038,
          0.0424,
          0.0423,
          0.0516,
          0.0526,
          0.0565,
          0.061,
          0.0648,
          0.0743,
          0.0756,
          0.0884,
          0.0846,
          0.0914,
          0.1009,
          0.1061,
          0.1136,
          0.1216,
          0.1257,
          0.1312,
          0.1367,
          0.1576,
          0.1556,
          0.1578,
          0.1675,
          0.1858,
          0.1869,
          0.1942,
          0.2081,
          0.2153,
          0.2281,
          0.231,
          0.2506,
          0.2527,
          0.2669,
          0.27699999999999997,
          0.2806,
          0.2975,
          0.3114,
          0.3112,
          0.3259,
          0.3414,
          0.354,
          0.3606,
          0.3694,
          0.3884,
          0.3933,
          0.41200000000000003,
          0.4168,
          0.4395,
          0.4385,
          0.4475,
          0.4578,
          0.4847,
          0.4929,
          0.501,
          0.5176,
          0.5247,
          0.5232,
          0.5449,
          0.5641,
          0.5704,
          0.5819,
          0.5915,
          0.6045,
          0.6161,
          0.6272,
          0.6403,
          0.6489
         ]
        },
        {
         "name": "4 Shared Birthdays",
         "type": "bar",
         "width": [
          0.6,
          0.6,
          0.6,
          0.6,
          0.6,
          0.6,
          0.6,
          0.6,
          0.6,
          0.6,
          0.6,
          0.6,
          0.6,
          0.6,
          0.6,
          0.6,
          0.6,
          0.6,
          0.6,
          0.6,
          0.6,
          0.6,
          0.6,
          0.6,
          0.6,
          0.6,
          0.6,
          0.6,
          0.6,
          0.6,
          0.6,
          0.6,
          0.6,
          0.6,
          0.6,
          0.6,
          0.6,
          0.6,
          0.6,
          0.6,
          0.6,
          0.6,
          0.6,
          0.6,
          0.6,
          0.6,
          0.6,
          0.6,
          0.6,
          0.6,
          0.6,
          0.6,
          0.6,
          0.6,
          0.6,
          0.6,
          0.6,
          0.6,
          0.6,
          0.6,
          0.6,
          0.6,
          0.6,
          0.6,
          0.6,
          0.6,
          0.6,
          0.6,
          0.6,
          0.6,
          0.6,
          0.6,
          0.6,
          0.6,
          0.6,
          0.6,
          0.6,
          0.6,
          0.6,
          0.6,
          0.6,
          0.6,
          0.6,
          0.6,
          0.6,
          0.6,
          0.6,
          0.6,
          0.6,
          0.6,
          0.6,
          0.6,
          0.6,
          0.6,
          0.6,
          0.6,
          0.6,
          0.6,
          0.6,
          0.6
         ],
         "y": [
          0,
          0,
          0,
          0,
          0,
          0,
          0,
          0,
          0,
          0,
          0,
          0,
          0,
          0,
          0,
          0,
          0,
          0,
          0.0001,
          0,
          0.0001,
          0,
          0,
          0.0001,
          0.0004,
          0,
          0.0003,
          0.0006,
          0.0004,
          0.0007,
          0.0006,
          0.0004,
          0.0009,
          0.0006,
          0.0008,
          0.0013,
          0.001,
          0.0021,
          0.0011,
          0.0014,
          0.0012,
          0.0019,
          0.0021,
          0.0028,
          0.0027,
          0.0019,
          0.0035,
          0.0038,
          0.005,
          0.0037,
          0.0047,
          0.0054,
          0.0055,
          0.0063,
          0.0066,
          0.0067,
          0.0071,
          0.0087,
          0.0082,
          0.008,
          0.0084,
          0.0112,
          0.0117,
          0.0121,
          0.0126,
          0.0129,
          0.0138,
          0.0126,
          0.0145,
          0.016,
          0.0152,
          0.0164,
          0.0196,
          0.0219,
          0.0216,
          0.0219,
          0.0235,
          0.0291,
          0.0268,
          0.0279,
          0.0306,
          0.0293,
          0.032,
          0.0331,
          0.0339,
          0.0386,
          0.0378,
          0.0398,
          0.0408,
          0.0427,
          0.0439,
          0.0451,
          0.0489,
          0.0493,
          0.0553,
          0.0518,
          0.0556,
          0.0623,
          0.0611,
          0.0632
         ]
        },
        {
         "name": "5 Shared Birthdays",
         "type": "bar",
         "width": [
          0.6,
          0.6,
          0.6,
          0.6,
          0.6,
          0.6,
          0.6,
          0.6,
          0.6,
          0.6,
          0.6,
          0.6,
          0.6,
          0.6,
          0.6,
          0.6,
          0.6,
          0.6,
          0.6,
          0.6,
          0.6,
          0.6,
          0.6,
          0.6,
          0.6,
          0.6,
          0.6,
          0.6,
          0.6,
          0.6,
          0.6,
          0.6,
          0.6,
          0.6,
          0.6,
          0.6,
          0.6,
          0.6,
          0.6,
          0.6,
          0.6,
          0.6,
          0.6,
          0.6,
          0.6,
          0.6,
          0.6,
          0.6,
          0.6,
          0.6,
          0.6,
          0.6,
          0.6,
          0.6,
          0.6,
          0.6,
          0.6,
          0.6,
          0.6,
          0.6,
          0.6,
          0.6,
          0.6,
          0.6,
          0.6,
          0.6,
          0.6,
          0.6,
          0.6,
          0.6,
          0.6,
          0.6,
          0.6,
          0.6,
          0.6,
          0.6,
          0.6,
          0.6,
          0.6,
          0.6,
          0.6,
          0.6,
          0.6,
          0.6,
          0.6,
          0.6,
          0.6,
          0.6,
          0.6,
          0.6,
          0.6,
          0.6,
          0.6,
          0.6,
          0.6,
          0.6,
          0.6,
          0.6,
          0.6,
          0.6
         ],
         "y": [
          0,
          0,
          0,
          0,
          0,
          0,
          0,
          0,
          0,
          0,
          0,
          0,
          0,
          0,
          0,
          0,
          0,
          0,
          0,
          0.0001,
          0,
          0,
          0,
          0,
          0,
          0,
          0,
          0,
          0,
          0,
          0,
          0,
          0,
          0,
          0,
          0,
          0,
          0.0001,
          0,
          0,
          0,
          0.0001,
          0.0001,
          0.0002,
          0.0001,
          0.0001,
          0.0002,
          0.0003,
          0.0001,
          0.0001,
          0.0001,
          0,
          0.0001,
          0.0001,
          0,
          0.0003,
          0,
          0.0003,
          0.0004,
          0.0001,
          0.0002,
          0.0008,
          0.0002,
          0.0001,
          0.0003,
          0.0002,
          0.0004,
          0.0003,
          0.001,
          0.0004,
          0.0006,
          0.0006,
          0.0008,
          0.0009,
          0.0008,
          0.0011,
          0.0005,
          0.002,
          0.0009,
          0.0012,
          0.001,
          0.0013,
          0.0018,
          0.0014,
          0.0014,
          0.0016,
          0.0015,
          0.0019,
          0.0025,
          0.0014,
          0.003,
          0.0018,
          0.0022,
          0.0033,
          0.0024,
          0.0018,
          0.0032,
          0.0023,
          0.0027,
          0.0025
         ]
        }
       ],
       "layout": {
        "barmode": "group",
        "template": {
         "data": {
          "bar": [
           {
            "error_x": {
             "color": "#2a3f5f"
            },
            "error_y": {
             "color": "#2a3f5f"
            },
            "marker": {
             "line": {
              "color": "#E5ECF6",
              "width": 0.5
             }
            },
            "type": "bar"
           }
          ],
          "barpolar": [
           {
            "marker": {
             "line": {
              "color": "#E5ECF6",
              "width": 0.5
             }
            },
            "type": "barpolar"
           }
          ],
          "carpet": [
           {
            "aaxis": {
             "endlinecolor": "#2a3f5f",
             "gridcolor": "white",
             "linecolor": "white",
             "minorgridcolor": "white",
             "startlinecolor": "#2a3f5f"
            },
            "baxis": {
             "endlinecolor": "#2a3f5f",
             "gridcolor": "white",
             "linecolor": "white",
             "minorgridcolor": "white",
             "startlinecolor": "#2a3f5f"
            },
            "type": "carpet"
           }
          ],
          "choropleth": [
           {
            "colorbar": {
             "outlinewidth": 0,
             "ticks": ""
            },
            "type": "choropleth"
           }
          ],
          "contour": [
           {
            "colorbar": {
             "outlinewidth": 0,
             "ticks": ""
            },
            "colorscale": [
             [
              0,
              "#0d0887"
             ],
             [
              0.1111111111111111,
              "#46039f"
             ],
             [
              0.2222222222222222,
              "#7201a8"
             ],
             [
              0.3333333333333333,
              "#9c179e"
             ],
             [
              0.4444444444444444,
              "#bd3786"
             ],
             [
              0.5555555555555556,
              "#d8576b"
             ],
             [
              0.6666666666666666,
              "#ed7953"
             ],
             [
              0.7777777777777778,
              "#fb9f3a"
             ],
             [
              0.8888888888888888,
              "#fdca26"
             ],
             [
              1,
              "#f0f921"
             ]
            ],
            "type": "contour"
           }
          ],
          "contourcarpet": [
           {
            "colorbar": {
             "outlinewidth": 0,
             "ticks": ""
            },
            "type": "contourcarpet"
           }
          ],
          "heatmap": [
           {
            "colorbar": {
             "outlinewidth": 0,
             "ticks": ""
            },
            "colorscale": [
             [
              0,
              "#0d0887"
             ],
             [
              0.1111111111111111,
              "#46039f"
             ],
             [
              0.2222222222222222,
              "#7201a8"
             ],
             [
              0.3333333333333333,
              "#9c179e"
             ],
             [
              0.4444444444444444,
              "#bd3786"
             ],
             [
              0.5555555555555556,
              "#d8576b"
             ],
             [
              0.6666666666666666,
              "#ed7953"
             ],
             [
              0.7777777777777778,
              "#fb9f3a"
             ],
             [
              0.8888888888888888,
              "#fdca26"
             ],
             [
              1,
              "#f0f921"
             ]
            ],
            "type": "heatmap"
           }
          ],
          "heatmapgl": [
           {
            "colorbar": {
             "outlinewidth": 0,
             "ticks": ""
            },
            "colorscale": [
             [
              0,
              "#0d0887"
             ],
             [
              0.1111111111111111,
              "#46039f"
             ],
             [
              0.2222222222222222,
              "#7201a8"
             ],
             [
              0.3333333333333333,
              "#9c179e"
             ],
             [
              0.4444444444444444,
              "#bd3786"
             ],
             [
              0.5555555555555556,
              "#d8576b"
             ],
             [
              0.6666666666666666,
              "#ed7953"
             ],
             [
              0.7777777777777778,
              "#fb9f3a"
             ],
             [
              0.8888888888888888,
              "#fdca26"
             ],
             [
              1,
              "#f0f921"
             ]
            ],
            "type": "heatmapgl"
           }
          ],
          "histogram": [
           {
            "marker": {
             "colorbar": {
              "outlinewidth": 0,
              "ticks": ""
             }
            },
            "type": "histogram"
           }
          ],
          "histogram2d": [
           {
            "colorbar": {
             "outlinewidth": 0,
             "ticks": ""
            },
            "colorscale": [
             [
              0,
              "#0d0887"
             ],
             [
              0.1111111111111111,
              "#46039f"
             ],
             [
              0.2222222222222222,
              "#7201a8"
             ],
             [
              0.3333333333333333,
              "#9c179e"
             ],
             [
              0.4444444444444444,
              "#bd3786"
             ],
             [
              0.5555555555555556,
              "#d8576b"
             ],
             [
              0.6666666666666666,
              "#ed7953"
             ],
             [
              0.7777777777777778,
              "#fb9f3a"
             ],
             [
              0.8888888888888888,
              "#fdca26"
             ],
             [
              1,
              "#f0f921"
             ]
            ],
            "type": "histogram2d"
           }
          ],
          "histogram2dcontour": [
           {
            "colorbar": {
             "outlinewidth": 0,
             "ticks": ""
            },
            "colorscale": [
             [
              0,
              "#0d0887"
             ],
             [
              0.1111111111111111,
              "#46039f"
             ],
             [
              0.2222222222222222,
              "#7201a8"
             ],
             [
              0.3333333333333333,
              "#9c179e"
             ],
             [
              0.4444444444444444,
              "#bd3786"
             ],
             [
              0.5555555555555556,
              "#d8576b"
             ],
             [
              0.6666666666666666,
              "#ed7953"
             ],
             [
              0.7777777777777778,
              "#fb9f3a"
             ],
             [
              0.8888888888888888,
              "#fdca26"
             ],
             [
              1,
              "#f0f921"
             ]
            ],
            "type": "histogram2dcontour"
           }
          ],
          "mesh3d": [
           {
            "colorbar": {
             "outlinewidth": 0,
             "ticks": ""
            },
            "type": "mesh3d"
           }
          ],
          "parcoords": [
           {
            "line": {
             "colorbar": {
              "outlinewidth": 0,
              "ticks": ""
             }
            },
            "type": "parcoords"
           }
          ],
          "pie": [
           {
            "automargin": true,
            "type": "pie"
           }
          ],
          "scatter": [
           {
            "marker": {
             "colorbar": {
              "outlinewidth": 0,
              "ticks": ""
             }
            },
            "type": "scatter"
           }
          ],
          "scatter3d": [
           {
            "line": {
             "colorbar": {
              "outlinewidth": 0,
              "ticks": ""
             }
            },
            "marker": {
             "colorbar": {
              "outlinewidth": 0,
              "ticks": ""
             }
            },
            "type": "scatter3d"
           }
          ],
          "scattercarpet": [
           {
            "marker": {
             "colorbar": {
              "outlinewidth": 0,
              "ticks": ""
             }
            },
            "type": "scattercarpet"
           }
          ],
          "scattergeo": [
           {
            "marker": {
             "colorbar": {
              "outlinewidth": 0,
              "ticks": ""
             }
            },
            "type": "scattergeo"
           }
          ],
          "scattergl": [
           {
            "marker": {
             "colorbar": {
              "outlinewidth": 0,
              "ticks": ""
             }
            },
            "type": "scattergl"
           }
          ],
          "scattermapbox": [
           {
            "marker": {
             "colorbar": {
              "outlinewidth": 0,
              "ticks": ""
             }
            },
            "type": "scattermapbox"
           }
          ],
          "scatterpolar": [
           {
            "marker": {
             "colorbar": {
              "outlinewidth": 0,
              "ticks": ""
             }
            },
            "type": "scatterpolar"
           }
          ],
          "scatterpolargl": [
           {
            "marker": {
             "colorbar": {
              "outlinewidth": 0,
              "ticks": ""
             }
            },
            "type": "scatterpolargl"
           }
          ],
          "scatterternary": [
           {
            "marker": {
             "colorbar": {
              "outlinewidth": 0,
              "ticks": ""
             }
            },
            "type": "scatterternary"
           }
          ],
          "surface": [
           {
            "colorbar": {
             "outlinewidth": 0,
             "ticks": ""
            },
            "colorscale": [
             [
              0,
              "#0d0887"
             ],
             [
              0.1111111111111111,
              "#46039f"
             ],
             [
              0.2222222222222222,
              "#7201a8"
             ],
             [
              0.3333333333333333,
              "#9c179e"
             ],
             [
              0.4444444444444444,
              "#bd3786"
             ],
             [
              0.5555555555555556,
              "#d8576b"
             ],
             [
              0.6666666666666666,
              "#ed7953"
             ],
             [
              0.7777777777777778,
              "#fb9f3a"
             ],
             [
              0.8888888888888888,
              "#fdca26"
             ],
             [
              1,
              "#f0f921"
             ]
            ],
            "type": "surface"
           }
          ],
          "table": [
           {
            "cells": {
             "fill": {
              "color": "#EBF0F8"
             },
             "line": {
              "color": "white"
             }
            },
            "header": {
             "fill": {
              "color": "#C8D4E3"
             },
             "line": {
              "color": "white"
             }
            },
            "type": "table"
           }
          ]
         },
         "layout": {
          "annotationdefaults": {
           "arrowcolor": "#2a3f5f",
           "arrowhead": 0,
           "arrowwidth": 1
          },
          "coloraxis": {
           "colorbar": {
            "outlinewidth": 0,
            "ticks": ""
           }
          },
          "colorscale": {
           "diverging": [
            [
             0,
             "#8e0152"
            ],
            [
             0.1,
             "#c51b7d"
            ],
            [
             0.2,
             "#de77ae"
            ],
            [
             0.3,
             "#f1b6da"
            ],
            [
             0.4,
             "#fde0ef"
            ],
            [
             0.5,
             "#f7f7f7"
            ],
            [
             0.6,
             "#e6f5d0"
            ],
            [
             0.7,
             "#b8e186"
            ],
            [
             0.8,
             "#7fbc41"
            ],
            [
             0.9,
             "#4d9221"
            ],
            [
             1,
             "#276419"
            ]
           ],
           "sequential": [
            [
             0,
             "#0d0887"
            ],
            [
             0.1111111111111111,
             "#46039f"
            ],
            [
             0.2222222222222222,
             "#7201a8"
            ],
            [
             0.3333333333333333,
             "#9c179e"
            ],
            [
             0.4444444444444444,
             "#bd3786"
            ],
            [
             0.5555555555555556,
             "#d8576b"
            ],
            [
             0.6666666666666666,
             "#ed7953"
            ],
            [
             0.7777777777777778,
             "#fb9f3a"
            ],
            [
             0.8888888888888888,
             "#fdca26"
            ],
            [
             1,
             "#f0f921"
            ]
           ],
           "sequentialminus": [
            [
             0,
             "#0d0887"
            ],
            [
             0.1111111111111111,
             "#46039f"
            ],
            [
             0.2222222222222222,
             "#7201a8"
            ],
            [
             0.3333333333333333,
             "#9c179e"
            ],
            [
             0.4444444444444444,
             "#bd3786"
            ],
            [
             0.5555555555555556,
             "#d8576b"
            ],
            [
             0.6666666666666666,
             "#ed7953"
            ],
            [
             0.7777777777777778,
             "#fb9f3a"
            ],
            [
             0.8888888888888888,
             "#fdca26"
            ],
            [
             1,
             "#f0f921"
            ]
           ]
          },
          "colorway": [
           "#636efa",
           "#EF553B",
           "#00cc96",
           "#ab63fa",
           "#FFA15A",
           "#19d3f3",
           "#FF6692",
           "#B6E880",
           "#FF97FF",
           "#FECB52"
          ],
          "font": {
           "color": "#2a3f5f"
          },
          "geo": {
           "bgcolor": "white",
           "lakecolor": "white",
           "landcolor": "#E5ECF6",
           "showlakes": true,
           "showland": true,
           "subunitcolor": "white"
          },
          "hoverlabel": {
           "align": "left"
          },
          "hovermode": "closest",
          "mapbox": {
           "style": "light"
          },
          "paper_bgcolor": "white",
          "plot_bgcolor": "#E5ECF6",
          "polar": {
           "angularaxis": {
            "gridcolor": "white",
            "linecolor": "white",
            "ticks": ""
           },
           "bgcolor": "#E5ECF6",
           "radialaxis": {
            "gridcolor": "white",
            "linecolor": "white",
            "ticks": ""
           }
          },
          "scene": {
           "xaxis": {
            "backgroundcolor": "#E5ECF6",
            "gridcolor": "white",
            "gridwidth": 2,
            "linecolor": "white",
            "showbackground": true,
            "ticks": "",
            "zerolinecolor": "white"
           },
           "yaxis": {
            "backgroundcolor": "#E5ECF6",
            "gridcolor": "white",
            "gridwidth": 2,
            "linecolor": "white",
            "showbackground": true,
            "ticks": "",
            "zerolinecolor": "white"
           },
           "zaxis": {
            "backgroundcolor": "#E5ECF6",
            "gridcolor": "white",
            "gridwidth": 2,
            "linecolor": "white",
            "showbackground": true,
            "ticks": "",
            "zerolinecolor": "white"
           }
          },
          "shapedefaults": {
           "line": {
            "color": "#2a3f5f"
           }
          },
          "ternary": {
           "aaxis": {
            "gridcolor": "white",
            "linecolor": "white",
            "ticks": ""
           },
           "baxis": {
            "gridcolor": "white",
            "linecolor": "white",
            "ticks": ""
           },
           "bgcolor": "#E5ECF6",
           "caxis": {
            "gridcolor": "white",
            "linecolor": "white",
            "ticks": ""
           }
          },
          "title": {
           "x": 0.05
          },
          "xaxis": {
           "automargin": true,
           "gridcolor": "white",
           "linecolor": "white",
           "ticks": "",
           "title": {
            "standoff": 15
           },
           "zerolinecolor": "white",
           "zerolinewidth": 2
          },
          "yaxis": {
           "automargin": true,
           "gridcolor": "white",
           "linecolor": "white",
           "ticks": "",
           "title": {
            "standoff": 15
           },
           "zerolinecolor": "white",
           "zerolinewidth": 2
          }
         }
        },
        "title": {
         "font": {
          "size": 20
         },
         "text": "Percent Probability of Colliding Birthdays"
        },
        "xaxis": {
         "tickfont": {
          "family": "Calibri",
          "size": 25
         },
         "title": {
          "font": {
           "color": "black",
           "family": "Verdana",
           "size": 30
          },
          "text": "Number of People"
         }
        },
        "yaxis": {
         "tickfont": {
          "family": "Calibri",
          "size": 25
         },
         "title": {
          "font": {
           "color": "black",
           "family": "Verdana",
           "size": 30
          },
          "text": "Probability"
         }
        }
       }
      },
      "text/html": [
       "<div>                            <div id=\"540d1b55-1c14-44d8-8132-763c1cb9859e\" class=\"plotly-graph-div\" style=\"height:525px; width:100%;\"></div>            <script type=\"text/javascript\">                require([\"plotly\"], function(Plotly) {                    window.PLOTLYENV=window.PLOTLYENV || {};                                    if (document.getElementById(\"540d1b55-1c14-44d8-8132-763c1cb9859e\")) {                    Plotly.newPlot(                        \"540d1b55-1c14-44d8-8132-763c1cb9859e\",                        [{\"name\": \"2 Shared Birthdays\", \"type\": \"bar\", \"width\": [0.6, 0.6, 0.6, 0.6, 0.6, 0.6, 0.6, 0.6, 0.6, 0.6, 0.6, 0.6, 0.6, 0.6, 0.6, 0.6, 0.6, 0.6, 0.6, 0.6, 0.6, 0.6, 0.6, 0.6, 0.6, 0.6, 0.6, 0.6, 0.6, 0.6, 0.6, 0.6, 0.6, 0.6, 0.6, 0.6, 0.6, 0.6, 0.6, 0.6, 0.6, 0.6, 0.6, 0.6, 0.6, 0.6, 0.6, 0.6, 0.6, 0.6, 0.6, 0.6, 0.6, 0.6, 0.6, 0.6, 0.6, 0.6, 0.6, 0.6, 0.6, 0.6, 0.6, 0.6, 0.6, 0.6, 0.6, 0.6, 0.6, 0.6, 0.6, 0.6, 0.6, 0.6, 0.6, 0.6, 0.6, 0.6, 0.6, 0.6, 0.6, 0.6, 0.6, 0.6, 0.6, 0.6, 0.6, 0.6, 0.6, 0.6, 0.6, 0.6, 0.6, 0.6, 0.6, 0.6, 0.6, 0.6, 0.6, 0.6], \"y\": [0.0, 0.0025, 0.0078, 0.0154, 0.0276, 0.0384, 0.0558, 0.078, 0.0959, 0.1153, 0.1429, 0.1735, 0.1905, 0.217, 0.2547, 0.2851, 0.313, 0.3508, 0.37799999999999995, 0.4146, 0.4403, 0.4796, 0.5035, 0.5395, 0.5635, 0.5989, 0.6234, 0.6459, 0.6864, 0.7062, 0.7346, 0.7564, 0.7722, 0.8008, 0.8219, 0.8281, 0.8555, 0.8647, 0.8727, 0.8945, 0.9055, 0.9136, 0.9291, 0.9312, 0.9399, 0.9471, 0.9568, 0.9606, 0.9671, 0.97, 0.975, 0.9781, 0.9815, 0.9833, 0.9874, 0.9890000000000001, 0.9890000000000001, 0.9907, 0.9936, 0.9952, 0.9947, 0.9951, 0.996, 0.9973, 0.997, 0.9983, 0.9979, 0.9988, 0.9991, 0.9993, 0.9992, 0.9997, 0.9995, 0.9998, 0.9999, 0.9997, 0.9999, 0.9997, 0.9998, 0.9998, 0.9999, 1.0, 1.0, 1.0, 1.0, 1.0, 1.0, 1.0, 1.0, 1.0, 1.0, 0.9999, 1.0, 1.0, 1.0, 1.0, 1.0, 1.0, 1.0, 1.0]}, {\"name\": \"3 Shared Birthdays\", \"type\": \"bar\", \"width\": [0.6, 0.6, 0.6, 0.6, 0.6, 0.6, 0.6, 0.6, 0.6, 0.6, 0.6, 0.6, 0.6, 0.6, 0.6, 0.6, 0.6, 0.6, 0.6, 0.6, 0.6, 0.6, 0.6, 0.6, 0.6, 0.6, 0.6, 0.6, 0.6, 0.6, 0.6, 0.6, 0.6, 0.6, 0.6, 0.6, 0.6, 0.6, 0.6, 0.6, 0.6, 0.6, 0.6, 0.6, 0.6, 0.6, 0.6, 0.6, 0.6, 0.6, 0.6, 0.6, 0.6, 0.6, 0.6, 0.6, 0.6, 0.6, 0.6, 0.6, 0.6, 0.6, 0.6, 0.6, 0.6, 0.6, 0.6, 0.6, 0.6, 0.6, 0.6, 0.6, 0.6, 0.6, 0.6, 0.6, 0.6, 0.6, 0.6, 0.6, 0.6, 0.6, 0.6, 0.6, 0.6, 0.6, 0.6, 0.6, 0.6, 0.6, 0.6, 0.6, 0.6, 0.6, 0.6, 0.6, 0.6, 0.6, 0.6, 0.6], \"y\": [0.0, 0.0, 0.0, 0.0, 0.0, 0.0001, 0.0001, 0.0004, 0.0006, 0.0004, 0.0013, 0.0013, 0.0026, 0.0025, 0.0026, 0.0043, 0.005, 0.0068, 0.0073, 0.006999999999999999, 0.0099, 0.0113, 0.0132, 0.0158, 0.0163, 0.0181, 0.0194, 0.0237, 0.0267, 0.0276, 0.0318, 0.0352, 0.038, 0.0424, 0.0423, 0.0516, 0.0526, 0.0565, 0.061, 0.0648, 0.0743, 0.0756, 0.0884, 0.0846, 0.0914, 0.1009, 0.1061, 0.1136, 0.1216, 0.1257, 0.1312, 0.1367, 0.1576, 0.1556, 0.1578, 0.1675, 0.1858, 0.1869, 0.1942, 0.2081, 0.2153, 0.2281, 0.231, 0.2506, 0.2527, 0.2669, 0.27699999999999997, 0.2806, 0.2975, 0.3114, 0.3112, 0.3259, 0.3414, 0.354, 0.3606, 0.3694, 0.3884, 0.3933, 0.41200000000000003, 0.4168, 0.4395, 0.4385, 0.4475, 0.4578, 0.4847, 0.4929, 0.501, 0.5176, 0.5247, 0.5232, 0.5449, 0.5641, 0.5704, 0.5819, 0.5915, 0.6045, 0.6161, 0.6272, 0.6403, 0.6489]}, {\"name\": \"4 Shared Birthdays\", \"type\": \"bar\", \"width\": [0.6, 0.6, 0.6, 0.6, 0.6, 0.6, 0.6, 0.6, 0.6, 0.6, 0.6, 0.6, 0.6, 0.6, 0.6, 0.6, 0.6, 0.6, 0.6, 0.6, 0.6, 0.6, 0.6, 0.6, 0.6, 0.6, 0.6, 0.6, 0.6, 0.6, 0.6, 0.6, 0.6, 0.6, 0.6, 0.6, 0.6, 0.6, 0.6, 0.6, 0.6, 0.6, 0.6, 0.6, 0.6, 0.6, 0.6, 0.6, 0.6, 0.6, 0.6, 0.6, 0.6, 0.6, 0.6, 0.6, 0.6, 0.6, 0.6, 0.6, 0.6, 0.6, 0.6, 0.6, 0.6, 0.6, 0.6, 0.6, 0.6, 0.6, 0.6, 0.6, 0.6, 0.6, 0.6, 0.6, 0.6, 0.6, 0.6, 0.6, 0.6, 0.6, 0.6, 0.6, 0.6, 0.6, 0.6, 0.6, 0.6, 0.6, 0.6, 0.6, 0.6, 0.6, 0.6, 0.6, 0.6, 0.6, 0.6, 0.6], \"y\": [0.0, 0.0, 0.0, 0.0, 0.0, 0.0, 0.0, 0.0, 0.0, 0.0, 0.0, 0.0, 0.0, 0.0, 0.0, 0.0, 0.0, 0.0, 0.0001, 0.0, 0.0001, 0.0, 0.0, 0.0001, 0.0004, 0.0, 0.0003, 0.0006, 0.0004, 0.0007, 0.0006, 0.0004, 0.0009, 0.0006, 0.0008, 0.0013, 0.001, 0.0021, 0.0011, 0.0014, 0.0012, 0.0019, 0.0021, 0.0028, 0.0027, 0.0019, 0.0035, 0.0038, 0.005, 0.0037, 0.0047, 0.0054, 0.0055, 0.0063, 0.0066, 0.0067, 0.0071, 0.0087, 0.0082, 0.008, 0.0084, 0.0112, 0.0117, 0.0121, 0.0126, 0.0129, 0.0138, 0.0126, 0.0145, 0.016, 0.0152, 0.0164, 0.0196, 0.0219, 0.0216, 0.0219, 0.0235, 0.0291, 0.0268, 0.0279, 0.0306, 0.0293, 0.032, 0.0331, 0.0339, 0.0386, 0.0378, 0.0398, 0.0408, 0.0427, 0.0439, 0.0451, 0.0489, 0.0493, 0.0553, 0.0518, 0.0556, 0.0623, 0.0611, 0.0632]}, {\"name\": \"5 Shared Birthdays\", \"type\": \"bar\", \"width\": [0.6, 0.6, 0.6, 0.6, 0.6, 0.6, 0.6, 0.6, 0.6, 0.6, 0.6, 0.6, 0.6, 0.6, 0.6, 0.6, 0.6, 0.6, 0.6, 0.6, 0.6, 0.6, 0.6, 0.6, 0.6, 0.6, 0.6, 0.6, 0.6, 0.6, 0.6, 0.6, 0.6, 0.6, 0.6, 0.6, 0.6, 0.6, 0.6, 0.6, 0.6, 0.6, 0.6, 0.6, 0.6, 0.6, 0.6, 0.6, 0.6, 0.6, 0.6, 0.6, 0.6, 0.6, 0.6, 0.6, 0.6, 0.6, 0.6, 0.6, 0.6, 0.6, 0.6, 0.6, 0.6, 0.6, 0.6, 0.6, 0.6, 0.6, 0.6, 0.6, 0.6, 0.6, 0.6, 0.6, 0.6, 0.6, 0.6, 0.6, 0.6, 0.6, 0.6, 0.6, 0.6, 0.6, 0.6, 0.6, 0.6, 0.6, 0.6, 0.6, 0.6, 0.6, 0.6, 0.6, 0.6, 0.6, 0.6, 0.6], \"y\": [0.0, 0.0, 0.0, 0.0, 0.0, 0.0, 0.0, 0.0, 0.0, 0.0, 0.0, 0.0, 0.0, 0.0, 0.0, 0.0, 0.0, 0.0, 0.0, 0.0001, 0.0, 0.0, 0.0, 0.0, 0.0, 0.0, 0.0, 0.0, 0.0, 0.0, 0.0, 0.0, 0.0, 0.0, 0.0, 0.0, 0.0, 0.0001, 0.0, 0.0, 0.0, 0.0001, 0.0001, 0.0002, 0.0001, 0.0001, 0.0002, 0.0003, 0.0001, 0.0001, 0.0001, 0.0, 0.0001, 0.0001, 0.0, 0.0003, 0.0, 0.0003, 0.0004, 0.0001, 0.0002, 0.0008, 0.0002, 0.0001, 0.0003, 0.0002, 0.0004, 0.0003, 0.001, 0.0004, 0.0006, 0.0006, 0.0008, 0.0009, 0.0008, 0.0011, 0.0005, 0.002, 0.0009, 0.0012, 0.001, 0.0013, 0.0018, 0.0014, 0.0014, 0.0016, 0.0015, 0.0019, 0.0025, 0.0014, 0.003, 0.0018, 0.0022, 0.0033, 0.0024, 0.0018, 0.0032, 0.0023, 0.0027, 0.0025]}],                        {\"barmode\": \"group\", \"template\": {\"data\": {\"bar\": [{\"error_x\": {\"color\": \"#2a3f5f\"}, \"error_y\": {\"color\": \"#2a3f5f\"}, \"marker\": {\"line\": {\"color\": \"#E5ECF6\", \"width\": 0.5}}, \"type\": \"bar\"}], \"barpolar\": [{\"marker\": {\"line\": {\"color\": \"#E5ECF6\", \"width\": 0.5}}, \"type\": \"barpolar\"}], \"carpet\": [{\"aaxis\": {\"endlinecolor\": \"#2a3f5f\", \"gridcolor\": \"white\", \"linecolor\": \"white\", \"minorgridcolor\": \"white\", \"startlinecolor\": \"#2a3f5f\"}, \"baxis\": {\"endlinecolor\": \"#2a3f5f\", \"gridcolor\": \"white\", \"linecolor\": \"white\", \"minorgridcolor\": \"white\", \"startlinecolor\": \"#2a3f5f\"}, \"type\": \"carpet\"}], \"choropleth\": [{\"colorbar\": {\"outlinewidth\": 0, \"ticks\": \"\"}, \"type\": \"choropleth\"}], \"contour\": [{\"colorbar\": {\"outlinewidth\": 0, \"ticks\": \"\"}, \"colorscale\": [[0.0, \"#0d0887\"], [0.1111111111111111, \"#46039f\"], [0.2222222222222222, \"#7201a8\"], [0.3333333333333333, \"#9c179e\"], [0.4444444444444444, \"#bd3786\"], [0.5555555555555556, \"#d8576b\"], [0.6666666666666666, \"#ed7953\"], [0.7777777777777778, \"#fb9f3a\"], [0.8888888888888888, \"#fdca26\"], [1.0, \"#f0f921\"]], \"type\": \"contour\"}], \"contourcarpet\": [{\"colorbar\": {\"outlinewidth\": 0, \"ticks\": \"\"}, \"type\": \"contourcarpet\"}], \"heatmap\": [{\"colorbar\": {\"outlinewidth\": 0, \"ticks\": \"\"}, \"colorscale\": [[0.0, \"#0d0887\"], [0.1111111111111111, \"#46039f\"], [0.2222222222222222, \"#7201a8\"], [0.3333333333333333, \"#9c179e\"], [0.4444444444444444, \"#bd3786\"], [0.5555555555555556, \"#d8576b\"], [0.6666666666666666, \"#ed7953\"], [0.7777777777777778, \"#fb9f3a\"], [0.8888888888888888, \"#fdca26\"], [1.0, \"#f0f921\"]], \"type\": \"heatmap\"}], \"heatmapgl\": [{\"colorbar\": {\"outlinewidth\": 0, \"ticks\": \"\"}, \"colorscale\": [[0.0, \"#0d0887\"], [0.1111111111111111, \"#46039f\"], [0.2222222222222222, \"#7201a8\"], [0.3333333333333333, \"#9c179e\"], [0.4444444444444444, \"#bd3786\"], [0.5555555555555556, \"#d8576b\"], [0.6666666666666666, \"#ed7953\"], [0.7777777777777778, \"#fb9f3a\"], [0.8888888888888888, \"#fdca26\"], [1.0, \"#f0f921\"]], \"type\": \"heatmapgl\"}], \"histogram\": [{\"marker\": {\"colorbar\": {\"outlinewidth\": 0, \"ticks\": \"\"}}, \"type\": \"histogram\"}], \"histogram2d\": [{\"colorbar\": {\"outlinewidth\": 0, \"ticks\": \"\"}, \"colorscale\": [[0.0, \"#0d0887\"], [0.1111111111111111, \"#46039f\"], [0.2222222222222222, \"#7201a8\"], [0.3333333333333333, \"#9c179e\"], [0.4444444444444444, \"#bd3786\"], [0.5555555555555556, \"#d8576b\"], [0.6666666666666666, \"#ed7953\"], [0.7777777777777778, \"#fb9f3a\"], [0.8888888888888888, \"#fdca26\"], [1.0, \"#f0f921\"]], \"type\": \"histogram2d\"}], \"histogram2dcontour\": [{\"colorbar\": {\"outlinewidth\": 0, \"ticks\": \"\"}, \"colorscale\": [[0.0, \"#0d0887\"], [0.1111111111111111, \"#46039f\"], [0.2222222222222222, \"#7201a8\"], [0.3333333333333333, \"#9c179e\"], [0.4444444444444444, \"#bd3786\"], [0.5555555555555556, \"#d8576b\"], [0.6666666666666666, \"#ed7953\"], [0.7777777777777778, \"#fb9f3a\"], [0.8888888888888888, \"#fdca26\"], [1.0, \"#f0f921\"]], \"type\": \"histogram2dcontour\"}], \"mesh3d\": [{\"colorbar\": {\"outlinewidth\": 0, \"ticks\": \"\"}, \"type\": \"mesh3d\"}], \"parcoords\": [{\"line\": {\"colorbar\": {\"outlinewidth\": 0, \"ticks\": \"\"}}, \"type\": \"parcoords\"}], \"pie\": [{\"automargin\": true, \"type\": \"pie\"}], \"scatter\": [{\"marker\": {\"colorbar\": {\"outlinewidth\": 0, \"ticks\": \"\"}}, \"type\": \"scatter\"}], \"scatter3d\": [{\"line\": {\"colorbar\": {\"outlinewidth\": 0, \"ticks\": \"\"}}, \"marker\": {\"colorbar\": {\"outlinewidth\": 0, \"ticks\": \"\"}}, \"type\": \"scatter3d\"}], \"scattercarpet\": [{\"marker\": {\"colorbar\": {\"outlinewidth\": 0, \"ticks\": \"\"}}, \"type\": \"scattercarpet\"}], \"scattergeo\": [{\"marker\": {\"colorbar\": {\"outlinewidth\": 0, \"ticks\": \"\"}}, \"type\": \"scattergeo\"}], \"scattergl\": [{\"marker\": {\"colorbar\": {\"outlinewidth\": 0, \"ticks\": \"\"}}, \"type\": \"scattergl\"}], \"scattermapbox\": [{\"marker\": {\"colorbar\": {\"outlinewidth\": 0, \"ticks\": \"\"}}, \"type\": \"scattermapbox\"}], \"scatterpolar\": [{\"marker\": {\"colorbar\": {\"outlinewidth\": 0, \"ticks\": \"\"}}, \"type\": \"scatterpolar\"}], \"scatterpolargl\": [{\"marker\": {\"colorbar\": {\"outlinewidth\": 0, \"ticks\": \"\"}}, \"type\": \"scatterpolargl\"}], \"scatterternary\": [{\"marker\": {\"colorbar\": {\"outlinewidth\": 0, \"ticks\": \"\"}}, \"type\": \"scatterternary\"}], \"surface\": [{\"colorbar\": {\"outlinewidth\": 0, \"ticks\": \"\"}, \"colorscale\": [[0.0, \"#0d0887\"], [0.1111111111111111, \"#46039f\"], [0.2222222222222222, \"#7201a8\"], [0.3333333333333333, \"#9c179e\"], [0.4444444444444444, \"#bd3786\"], [0.5555555555555556, \"#d8576b\"], [0.6666666666666666, \"#ed7953\"], [0.7777777777777778, \"#fb9f3a\"], [0.8888888888888888, \"#fdca26\"], [1.0, \"#f0f921\"]], \"type\": \"surface\"}], \"table\": [{\"cells\": {\"fill\": {\"color\": \"#EBF0F8\"}, \"line\": {\"color\": \"white\"}}, \"header\": {\"fill\": {\"color\": \"#C8D4E3\"}, \"line\": {\"color\": \"white\"}}, \"type\": \"table\"}]}, \"layout\": {\"annotationdefaults\": {\"arrowcolor\": \"#2a3f5f\", \"arrowhead\": 0, \"arrowwidth\": 1}, \"coloraxis\": {\"colorbar\": {\"outlinewidth\": 0, \"ticks\": \"\"}}, \"colorscale\": {\"diverging\": [[0, \"#8e0152\"], [0.1, \"#c51b7d\"], [0.2, \"#de77ae\"], [0.3, \"#f1b6da\"], [0.4, \"#fde0ef\"], [0.5, \"#f7f7f7\"], [0.6, \"#e6f5d0\"], [0.7, \"#b8e186\"], [0.8, \"#7fbc41\"], [0.9, \"#4d9221\"], [1, \"#276419\"]], \"sequential\": [[0.0, \"#0d0887\"], [0.1111111111111111, \"#46039f\"], [0.2222222222222222, \"#7201a8\"], [0.3333333333333333, \"#9c179e\"], [0.4444444444444444, \"#bd3786\"], [0.5555555555555556, \"#d8576b\"], [0.6666666666666666, \"#ed7953\"], [0.7777777777777778, \"#fb9f3a\"], [0.8888888888888888, \"#fdca26\"], [1.0, \"#f0f921\"]], \"sequentialminus\": [[0.0, \"#0d0887\"], [0.1111111111111111, \"#46039f\"], [0.2222222222222222, \"#7201a8\"], [0.3333333333333333, \"#9c179e\"], [0.4444444444444444, \"#bd3786\"], [0.5555555555555556, \"#d8576b\"], [0.6666666666666666, \"#ed7953\"], [0.7777777777777778, \"#fb9f3a\"], [0.8888888888888888, \"#fdca26\"], [1.0, \"#f0f921\"]]}, \"colorway\": [\"#636efa\", \"#EF553B\", \"#00cc96\", \"#ab63fa\", \"#FFA15A\", \"#19d3f3\", \"#FF6692\", \"#B6E880\", \"#FF97FF\", \"#FECB52\"], \"font\": {\"color\": \"#2a3f5f\"}, \"geo\": {\"bgcolor\": \"white\", \"lakecolor\": \"white\", \"landcolor\": \"#E5ECF6\", \"showlakes\": true, \"showland\": true, \"subunitcolor\": \"white\"}, \"hoverlabel\": {\"align\": \"left\"}, \"hovermode\": \"closest\", \"mapbox\": {\"style\": \"light\"}, \"paper_bgcolor\": \"white\", \"plot_bgcolor\": \"#E5ECF6\", \"polar\": {\"angularaxis\": {\"gridcolor\": \"white\", \"linecolor\": \"white\", \"ticks\": \"\"}, \"bgcolor\": \"#E5ECF6\", \"radialaxis\": {\"gridcolor\": \"white\", \"linecolor\": \"white\", \"ticks\": \"\"}}, \"scene\": {\"xaxis\": {\"backgroundcolor\": \"#E5ECF6\", \"gridcolor\": \"white\", \"gridwidth\": 2, \"linecolor\": \"white\", \"showbackground\": true, \"ticks\": \"\", \"zerolinecolor\": \"white\"}, \"yaxis\": {\"backgroundcolor\": \"#E5ECF6\", \"gridcolor\": \"white\", \"gridwidth\": 2, \"linecolor\": \"white\", \"showbackground\": true, \"ticks\": \"\", \"zerolinecolor\": \"white\"}, \"zaxis\": {\"backgroundcolor\": \"#E5ECF6\", \"gridcolor\": \"white\", \"gridwidth\": 2, \"linecolor\": \"white\", \"showbackground\": true, \"ticks\": \"\", \"zerolinecolor\": \"white\"}}, \"shapedefaults\": {\"line\": {\"color\": \"#2a3f5f\"}}, \"ternary\": {\"aaxis\": {\"gridcolor\": \"white\", \"linecolor\": \"white\", \"ticks\": \"\"}, \"baxis\": {\"gridcolor\": \"white\", \"linecolor\": \"white\", \"ticks\": \"\"}, \"bgcolor\": \"#E5ECF6\", \"caxis\": {\"gridcolor\": \"white\", \"linecolor\": \"white\", \"ticks\": \"\"}}, \"title\": {\"x\": 0.05}, \"xaxis\": {\"automargin\": true, \"gridcolor\": \"white\", \"linecolor\": \"white\", \"ticks\": \"\", \"title\": {\"standoff\": 15}, \"zerolinecolor\": \"white\", \"zerolinewidth\": 2}, \"yaxis\": {\"automargin\": true, \"gridcolor\": \"white\", \"linecolor\": \"white\", \"ticks\": \"\", \"title\": {\"standoff\": 15}, \"zerolinecolor\": \"white\", \"zerolinewidth\": 2}}}, \"title\": {\"font\": {\"size\": 20}, \"text\": \"Percent Probability of Colliding Birthdays\"}, \"xaxis\": {\"tickfont\": {\"family\": \"Calibri\", \"size\": 25}, \"title\": {\"font\": {\"color\": \"black\", \"family\": \"Verdana\", \"size\": 30}, \"text\": \"Number of People\"}}, \"yaxis\": {\"tickfont\": {\"family\": \"Calibri\", \"size\": 25}, \"title\": {\"font\": {\"color\": \"black\", \"family\": \"Verdana\", \"size\": 30}, \"text\": \"Probability\"}}},                        {\"responsive\": true}                    ).then(function(){\n",
       "                            \n",
       "var gd = document.getElementById('540d1b55-1c14-44d8-8132-763c1cb9859e');\n",
       "var x = new MutationObserver(function (mutations, observer) {{\n",
       "        var display = window.getComputedStyle(gd).display;\n",
       "        if (!display || display === 'none') {{\n",
       "            console.log([gd, 'removed!']);\n",
       "            Plotly.purge(gd);\n",
       "            observer.disconnect();\n",
       "        }}\n",
       "}});\n",
       "\n",
       "// Listen for the removal of the full notebook cells\n",
       "var notebookContainer = gd.closest('#notebook-container');\n",
       "if (notebookContainer) {{\n",
       "    x.observe(notebookContainer, {childList: true});\n",
       "}}\n",
       "\n",
       "// Listen for the clearing of the current output cell\n",
       "var outputEl = gd.closest('.output');\n",
       "if (outputEl) {{\n",
       "    x.observe(outputEl, {childList: true});\n",
       "}}\n",
       "\n",
       "                        })                };                });            </script>        </div>"
      ]
     },
     "metadata": {},
     "output_type": "display_data"
    }
   ],
   "source": [
    "# The author is teaching about collisions in hashing, \n",
    "# when two different inputs to a hash function produce \n",
    "# the same output. They claim that while it is unlikely\n",
    "# that two people in a room picked at random have the same\n",
    "# birthday, it is significantly more likely that any given\n",
    "# two people in the room have the same birthday. Below is a\n",
    "# simulation of this idea.\n",
    "def birthday_theory(num_people, simulations, shared_birthdays=2):\n",
    "    \n",
    "    # Counter for the number of simulations where\n",
    "    # at least two people shared a birthday. \n",
    "    # (To adjust the number of people that need to \n",
    "    # share a birthday to be counted, the shared_birthdays \n",
    "    # parameter can be altered\n",
    "    contained_shared_birthday = 0\n",
    "    \n",
    "    # Simulated over N iterations to generate a\n",
    "    # probability of colliding birthdays\n",
    "    for sim_num in range(simulations):\n",
    "        # Generate an array based on the number of\n",
    "        # people specified that will represent their\n",
    "        # birthdays. \n",
    "        all_people = np.random.rand(num_people,)\n",
    "        \n",
    "        # Multiply that array by 364 and \n",
    "        # round to the nearest integer to get the\n",
    "        # day that person was born. Since this includes\n",
    "        # the possibility of generating 0, the array is \n",
    "        # multiplied by (365-1)\n",
    "        birthdays = np.round(all_people * 364)\n",
    "        \n",
    "        # If we found a matching birthday update \n",
    "        # our counter by one\n",
    "        if matching_birthday(birthdays, shared_birthdays):\n",
    "            contained_shared_birthday += 1\n",
    "            \n",
    "    # Return the probability that any two people in this\n",
    "    # group shared a birthday\n",
    "    return contained_shared_birthday / simulations\n",
    "        \n",
    "# Use a helper function to determine if there is \n",
    "# a matching birthday as quickly as possible\n",
    "def matching_birthday(birthdays, shared_birthdays):\n",
    "    for item, count in Counter(birthdays).items():\n",
    "        if count >= shared_birthdays:\n",
    "            return True\n",
    "    return False\n",
    "\n",
    "# Simulate how the probability of shared birthdays\n",
    "# increase as the number of people increase\n",
    "#distribution = {}\n",
    "#for num_people in tqdm(range(1, 101)):\n",
    "#    distribution[num_people] = [birthday_theory(num_people=num_people, shared_birthdays=2, simulations=10_000),\n",
    "#                                birthday_theory(num_people=num_people, shared_birthdays=3, simulations=10_000),\n",
    "#                                birthday_theory(num_people=num_people, shared_birthdays=4, simulations=10_000),\n",
    "#                                birthday_theory(num_people=num_people, shared_birthdays=5, simulations=10_000)]\n",
    "#\n",
    "## Convert this information to a dataframe so that \n",
    "## I don't have to generate it again (took ~2 minutes)\n",
    "#shared_birthdays = pd.DataFrame.from_dict(distribution).T\n",
    "#shared_birthdays.columns = [2, 3, 4, 5]\n",
    "#shared_birthdays.to_csv('./data/shared_birthdays_probability.csv', index=False)\n",
    "\n",
    "shared_birthdays = pd.read_csv('./data/shared_birthdays_probability.csv')\n",
    "\n",
    "# Visualization created with reference to \n",
    "# https://towardsdatascience.com/clustered-overlapped-bar-charts-with-plotly-express-c752d2925cf1\n",
    "anchos = [0.6] * 100\n",
    "\n",
    "fig = go.Figure()\n",
    "fig.add_trace(go.Bar(y = shared_birthdays['2'], \n",
    "                     width = anchos, name = '2 Shared Birthdays'))\n",
    "fig.add_trace(go.Bar(y = shared_birthdays['3'],\n",
    "                     width = anchos, name = '3 Shared Birthdays'))\n",
    "fig.add_trace(go.Bar(y = shared_birthdays['4'],\n",
    "                     width = anchos, name = '4 Shared Birthdays'))\n",
    "fig.add_trace(go.Bar(y = shared_birthdays['5'],\n",
    "                     width = anchos, name = '5 Shared Birthdays'))\n",
    "\n",
    "fig.update_layout(title =  \"Percent Probability of Colliding Birthdays\",\n",
    "                  barmode = 'group', title_font_size = 20)\n",
    "\n",
    "fig.update_xaxes(title_text = 'Number of People',\n",
    "         title_font=dict(size=30, family='Verdana', color='black'),\n",
    "         tickfont=dict(family='Calibri', size=25))\n",
    "fig.update_yaxes(title_text = \"Probability\",\n",
    "         title_font=dict(size=30, family='Verdana', color='black'), \n",
    "         tickfont=dict(family='Calibri', size=25))\n",
    "\n",
    "fig.show()"
   ]
  },
  {
   "cell_type": "markdown",
   "metadata": {},
   "source": [
    "#### The percent chance of two people sharing a birthday (pct chance of collision) increases significantly faster than I thought. After we have just 56 people in a room, there is already a ~99% chance that two of them share a birthday."
   ]
  },
  {
   "cell_type": "code",
   "execution_count": null,
   "metadata": {},
   "outputs": [],
   "source": []
  }
 ],
 "metadata": {
  "kernelspec": {
   "display_name": "Python 3",
   "language": "python",
   "name": "python3"
  },
  "language_info": {
   "codemirror_mode": {
    "name": "ipython",
    "version": 3
   },
   "file_extension": ".py",
   "mimetype": "text/x-python",
   "name": "python",
   "nbconvert_exporter": "python",
   "pygments_lexer": "ipython3",
   "version": "3.6.10"
  }
 },
 "nbformat": 4,
 "nbformat_minor": 4
}
