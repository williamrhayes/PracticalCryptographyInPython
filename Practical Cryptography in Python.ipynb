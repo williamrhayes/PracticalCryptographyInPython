{
 "cells": [
  {
   "cell_type": "code",
   "execution_count": 1,
   "metadata": {},
   "outputs": [],
   "source": [
    "# Needed to install from \n",
    "# https://www.lfd.uci.edu/~gohlke/pythonlibs/#gmpy\n",
    "# Thanks to\n",
    "# https://stackoverflow.com/questions/58421429/python-pip-install-gmpy-on-windows-10-returns-cl-exe-failed-with-exit-statu\n",
    "import gmpy2 "
   ]
  },
  {
   "cell_type": "markdown",
   "metadata": {},
   "source": [
    "# Chapter 1"
   ]
  },
  {
   "cell_type": "markdown",
   "metadata": {},
   "source": [
    "### Excersize 1.1"
   ]
  },
  {
   "cell_type": "code",
   "execution_count": 2,
   "metadata": {
    "scrolled": true
   },
   "outputs": [
    {
     "data": {
      "text/plain": [
       "['TOBEORNOTTOBETHATISTHEQUQESTOIN',\n",
       " 'UPCFPSOPUUPCFUIBUJTUIFRVRFTUPJO',\n",
       " 'VQDGQTPQVVQDGVJCVKUVJGSWSGUVQKP',\n",
       " 'WREHRUQRWWREHWKDWLVWKHTXTHVWRLQ',\n",
       " 'XSFISVRSXXSFIXLEXMWXLIUYUIWXSMR',\n",
       " 'YTGJTWSTYYTGJYMFYNXYMJVZVJXYTNS',\n",
       " 'ZUHKUXTUZZUHKZNGZOYZNKWAWKYZUOT',\n",
       " 'AVILVYUVAAVILAOHAPZAOLXBXLZAVPU',\n",
       " 'BWJMWZVWBBWJMBPIBQABPMYCYMABWQV',\n",
       " 'CXKNXAWXCCXKNCQJCRBCQNZDZNBCXRW',\n",
       " 'DYLOYBXYDDYLODRKDSCDROAEAOCDYSX',\n",
       " 'EZMPZCYZEEZMPESLETDESPBFBPDEZTY',\n",
       " 'FANQADZAFFANQFTMFUEFTQCGCQEFAUZ',\n",
       " 'GBORBEABGGBORGUNGVFGURDHDRFGBVA',\n",
       " 'HCPSCFBCHHCPSHVOHWGHVSEIESGHCWB',\n",
       " 'IDQTDGCDIIDQTIWPIXHIWTFJFTHIDXC',\n",
       " 'JERUEHDEJJERUJXQJYIJXUGKGUIJEYD',\n",
       " 'KFSVFIEFKKFSVKYRKZJKYVHLHVJKFZE',\n",
       " 'LGTWGJFGLLGTWLZSLAKLZWIMIWKLGAF',\n",
       " 'MHUXHKGHMMHUXMATMBLMAXJNJXLMHBG',\n",
       " 'NIVYILHINNIVYNBUNCMNBYKOKYMNICH',\n",
       " 'OJWZJMIJOOJWZOCVODNOCZLPLZNOJDI',\n",
       " 'PKXAKNJKPPKXAPDWPEOPDAMQMAOPKEJ',\n",
       " 'QLYBLOKLQQLYBQEXQFPQEBNRNBPQLFK',\n",
       " 'RMZCMPLMRRMZCRFYRGQRFCOSOCQRMGL',\n",
       " 'SNADNQMNSSNADSGZSHRSGDPTPDRSNHM',\n",
       " 'TOBEORNOTTOBETHATISTHEQUQESTOIN']"
      ]
     },
     "execution_count": 2,
     "metadata": {},
     "output_type": "execute_result"
    }
   ],
   "source": [
    "from collections import deque\n",
    "\n",
    "# Generates the relationship between \n",
    "# characters; or the shift that the \n",
    "# alphabet is rotated\n",
    "def create_shift(shift, decoding=False):\n",
    "    # Build an alphabet deque that can be rotated\n",
    "    alphabet_ascii_values = range(ord('A'), ord('Z')+1)\n",
    "    alphabet = deque([chr(val) for val in alphabet_ascii_values])\n",
    "    \n",
    "    # Save the ordered alphabet\n",
    "    ordered_alphabet = list(alphabet)\n",
    "    \n",
    "    # Rotate based on the shift value\n",
    "    alphabet.rotate(shift)\n",
    "    \n",
    "    # Save the shifted alphabet AFTER it has been rotated\n",
    "    shifted_alphabet = list(alphabet)\n",
    "    \n",
    "    # Which character is the key and which character is the\n",
    "    # value depends on whether we want to encode or decode\n",
    "    # the string. In this instance, encoding is ordered to\n",
    "    # shifted and decoding is shifted to ordered.\n",
    "    if decoding:\n",
    "        return dict(zip(shifted_alphabet, ordered_alphabet))\n",
    "    else:\n",
    "        return dict(zip(ordered_alphabet, shifted_alphabet))\n",
    "\n",
    "# Take a string and encode it into gibberish!\n",
    "def ceaser_encode(msg, shift=0):\n",
    "    shift_key = create_shift(shift)\n",
    "    encoded_str = [shift_key[character] for character in msg.upper()]\n",
    "    return ''.join(encoded_str)\n",
    "\n",
    "# Take gibberish and decode it into English!\n",
    "def ceaser_decode(msg, shift=0):\n",
    "    shift_key = create_shift(shift, decoding=True)\n",
    "    encoded_str = [shift_key[character] for character in msg.upper()]\n",
    "    return ''.join(encoded_str)\n",
    "\n",
    "def printable_substitution(shift):\n",
    "    alphabet_char, encoded_char = create_shift(shift)\n",
    "    return \"{alphabet_char} -> {encoded_char}\".format(alphabet_char, encoded_char)\n",
    "\n",
    "# Return all of the possible\n",
    "# different shifts and codes\n",
    "def brute_force_ceaser(msg):\n",
    "    return [ceaser_decode(msg, shift) for shift in range(27)]\n",
    "\n",
    "code = \"TOBEORNOTTOBETHATISTHEQUQESTOIN\"\n",
    "brute_force_ceaser(code)"
   ]
  },
  {
   "cell_type": "markdown",
   "metadata": {},
   "source": [
    "### Excersize 1.2"
   ]
  },
  {
   "cell_type": "code",
   "execution_count": 3,
   "metadata": {},
   "outputs": [
    {
     "name": "stdout",
     "output_type": "stream",
     "text": [
      "40\n"
     ]
    },
    {
     "data": {
      "text/plain": [
       "{'TOBEORNOTTOBETHATISTHEQUQESTOIN': 40,\n",
       " 'UPCFPSOPUUPCFUIBUJTUIFRVRFTUPJO': 30,\n",
       " 'VQDGQTPQVVQDGVJCVKUVJGSWSGUVQKP': 22,\n",
       " 'WREHRUQRWWREHWKDWLVWKHTXTHVWRLQ': 23,\n",
       " 'XSFISVRSXXSFIXLEXMWXLIUYUIWXSMR': 30,\n",
       " 'YTGJTWSTYYTGJYMFYNXYMJVZVJXYTNS': 21,\n",
       " 'ZUHKUXTUZZUHKZNGZOYZNKWAWKYZUOT': 22,\n",
       " 'AVILVYUVAAVILAOHAPZAOLXBXLZAVPU': 29,\n",
       " 'BWJMWZVWBBWJMBPIBQABPMYCYMABWQV': 25,\n",
       " 'CXKNXAWXCCXKNCQJCRBCQNZDZNBCXRW': 24,\n",
       " 'DYLOYBXYDDYLODRKDSCDROAEAOCDYSX': 23,\n",
       " 'EZMPZCYZEEZMPESLETDESPBFBPDEZTY': 29,\n",
       " 'FANQADZAFFANQFTMFUEFTQCGCQEFAUZ': 28,\n",
       " 'GBORBEABGGBORGUNGVFGURDHDRFGBVA': 34,\n",
       " 'HCPSCFBCHHCPSHVOHWGHVSEIESGHCWB': 29,\n",
       " 'IDQTDGCDIIDQTIWPIXHIWTFJFTHIDXC': 31,\n",
       " 'JERUEHDEJJERUJXQJYIJXUGKGUIJEYD': 22,\n",
       " 'KFSVFIEFKKFSVKYRKZJKYVHLHVJKFZE': 20,\n",
       " 'LGTWGJFGLLGTWLZSLAKLZWIMIWKLGAF': 25,\n",
       " 'MHUXHKGHMMHUXMATMBLMAXJNJXLMHBG': 30,\n",
       " 'NIVYILHINNIVYNBUNCMNBYKOKYMNICH': 31,\n",
       " 'OJWZJMIJOOJWZOCVODNOCZLPLZNOJDI': 24,\n",
       " 'PKXAKNJKPPKXAPDWPEOPDAMQMAOPKEJ': 26,\n",
       " 'QLYBLOKLQQLYBQEXQFPQEBNRNBPQLFK': 22,\n",
       " 'RMZCMPLMRRMZCRFYRGQRFCOSOCQRMGL': 34,\n",
       " 'SNADNQMNSSNADSGZSHRSGDPTPDRSNHM': 33}"
      ]
     },
     "execution_count": 3,
     "metadata": {},
     "output_type": "execute_result"
    }
   ],
   "source": [
    "import pandas as pd\n",
    "\n",
    "common_words = pd.read_csv(r'C:\\Users\\William\\Documents\\_UL\\Cryptography - Bonus\\unigram_freq.csv').iloc[:10_000]\n",
    "\n",
    "most_common_words = common_words.word.values\n",
    "\n",
    "all_shifts = brute_force_ceaser(code)\n",
    "\n",
    "word_frequency = {}\n",
    "for shift in all_shifts:\n",
    "    word_frequency[shift] = 0\n",
    "    for word in most_common_words:\n",
    "        if (word==word) and (word in shift.lower()):\n",
    "            word_frequency[shift] += 1\n",
    "            \n",
    "print(max(word_frequency.values()))\n",
    "word_frequency"
   ]
  },
  {
   "cell_type": "markdown",
   "metadata": {},
   "source": [
    "### Excersize 1.3"
   ]
  },
  {
   "cell_type": "code",
   "execution_count": 4,
   "metadata": {
    "scrolled": true
   },
   "outputs": [
    {
     "name": "stdout",
     "output_type": "stream",
     "text": [
      "T I\n",
      "O N\n",
      "B G\n",
      "E Z\n",
      "O N\n",
      "R W\n",
      "N L\n",
      "O N\n",
      "T I\n",
      "T I\n",
      "O N\n",
      "B G\n",
      "E Z\n",
      "T I\n",
      "H S\n",
      "A O\n",
      "T I\n",
      "I R\n",
      "S X\n",
      "T I\n",
      "H S\n",
      "E Z\n",
      "Q T\n",
      "U Y\n",
      "Q T\n",
      "E Z\n",
      "S X\n",
      "T I\n",
      "O N\n",
      "I R\n",
      "N L\n",
      "INGZNWLNIINGZISOIRXISZTYTZXINRL\n"
     ]
    },
    {
     "data": {
      "text/plain": [
       "{'A': 'O',\n",
       " 'B': 'G',\n",
       " 'C': 'C',\n",
       " 'D': 'J',\n",
       " 'E': 'Z',\n",
       " 'F': 'P',\n",
       " 'G': 'Q',\n",
       " 'H': 'S',\n",
       " 'I': 'R',\n",
       " 'J': 'K',\n",
       " 'K': 'E',\n",
       " 'L': 'M',\n",
       " 'M': 'D',\n",
       " 'N': 'L',\n",
       " 'O': 'N',\n",
       " 'P': 'V',\n",
       " 'Q': 'T',\n",
       " 'R': 'W',\n",
       " 'S': 'X',\n",
       " 'T': 'I',\n",
       " 'U': 'Y',\n",
       " 'V': 'B',\n",
       " 'W': 'A',\n",
       " 'X': 'U',\n",
       " 'Y': 'H',\n",
       " 'Z': 'F'}"
      ]
     },
     "execution_count": 4,
     "metadata": {},
     "output_type": "execute_result"
    }
   ],
   "source": [
    "import random\n",
    "\n",
    "# Generates the relationship between \n",
    "# characters; or the shift that the \n",
    "# alphabet is rotated\n",
    "def create_rando_shift():\n",
    "    # Build an alphabet deque that can be rotated\n",
    "    alphabet_ascii_values = range(ord('A'), ord('Z')+1)\n",
    "    alphabet = [chr(val) for val in alphabet_ascii_values]\n",
    "    \n",
    "    # Get our original alphabet\n",
    "    ordered_alphabet = alphabet[:]\n",
    "    \n",
    "    # Jumble the letters\n",
    "    random.shuffle(alphabet)\n",
    "    \n",
    "    # Get our jumbled list\n",
    "    shuffled_alphabet = alphabet\n",
    "    \n",
    "    # Return our encoding shift!\n",
    "    return dict(zip(ordered_alphabet, shuffled_alphabet))\n",
    "\n",
    "# Take a string and encode it into gibberish!\n",
    "def rando_encode(msg, shift_key):\n",
    "    for character in msg.upper():\n",
    "        print(character, shift_key[character])\n",
    "    encoded_str = [shift_key[character] for character in msg.upper()]\n",
    "    return ''.join(encoded_str)\n",
    "\n",
    "def printable_substitution(shift):\n",
    "    alphabet_char, encoded_char = create_shift(shift)\n",
    "    return \"{alphabet_char} -> {encoded_char}\".format(alphabet_char, encoded_char)\n",
    "\n",
    "# Return all of the possible\n",
    "# different shifts and codes\n",
    "def brute_force_ceaser(msg):\n",
    "    return [ceaser_decode(msg, shift) for shift in range(27)]\n",
    "\n",
    "shift = create_rando_shift()\n",
    "print(rando_encode(code, shift))\n",
    "shift"
   ]
  },
  {
   "cell_type": "markdown",
   "metadata": {},
   "source": [
    "# Chapter 2"
   ]
  },
  {
   "cell_type": "markdown",
   "metadata": {},
   "source": [
    "### Excersize 2.1"
   ]
  },
  {
   "cell_type": "code",
   "execution_count": 5,
   "metadata": {},
   "outputs": [
    {
     "data": {
      "text/plain": [
       "'d41d8cd98f00b204e9800998ecf8427e'"
      ]
     },
     "execution_count": 5,
     "metadata": {},
     "output_type": "execute_result"
    }
   ],
   "source": [
    "import hashlib\n",
    "md5hasher = hashlib.md5()\n",
    "md5hasher.hexdigest()"
   ]
  },
  {
   "cell_type": "code",
   "execution_count": 7,
   "metadata": {},
   "outputs": [
    {
     "data": {
      "text/plain": [
       "'6384e2b2184bcbf58eccf10ca7a6563c'"
      ]
     },
     "execution_count": 7,
     "metadata": {},
     "output_type": "execute_result"
    }
   ],
   "source": [
    "hashlib.md5(b'alice').hexdigest()"
   ]
  },
  {
   "cell_type": "code",
   "execution_count": 6,
   "metadata": {},
   "outputs": [
    {
     "data": {
      "text/plain": [
       "'9f9d51bc70ef21ca5c14f307980a29d8'"
      ]
     },
     "execution_count": 6,
     "metadata": {},
     "output_type": "execute_result"
    }
   ],
   "source": [
    "hashlib.md5(b'bob').hexdigest()"
   ]
  },
  {
   "cell_type": "code",
   "execution_count": 7,
   "metadata": {},
   "outputs": [
    {
     "data": {
      "text/plain": [
       "'6384e2b2184bcbf58eccf10ca7a6563c9f9d51bc70ef21ca5c14f307980a29d8'"
      ]
     },
     "execution_count": 7,
     "metadata": {},
     "output_type": "execute_result"
    }
   ],
   "source": [
    "hashlib.md5(b'alice').hexdigest() + hashlib.md5(b'bob').hexdigest()"
   ]
  },
  {
   "cell_type": "code",
   "execution_count": 26,
   "metadata": {},
   "outputs": [
    {
     "data": {
      "text/plain": [
       "'6384e2b2184bcbf58eccf10ca7a6563c'"
      ]
     },
     "execution_count": 26,
     "metadata": {},
     "output_type": "execute_result"
    }
   ],
   "source": [
    "hashlib.md5(b'alice').hexdigest()"
   ]
  },
  {
   "cell_type": "code",
   "execution_count": 8,
   "metadata": {},
   "outputs": [
    {
     "data": {
      "text/plain": [
       "'ec0048c7d6b5a11cdb261b71a813eff3'"
      ]
     },
     "execution_count": 8,
     "metadata": {},
     "output_type": "execute_result"
    }
   ],
   "source": [
    "hashlib.md5(b'alicebob').hexdigest()"
   ]
  },
  {
   "cell_type": "code",
   "execution_count": 12,
   "metadata": {},
   "outputs": [
    {
     "data": {
      "text/plain": [
       "'6ca003d00c9bb4569a4a27d751db7a89'"
      ]
     },
     "execution_count": 12,
     "metadata": {},
     "output_type": "execute_result"
    }
   ],
   "source": [
    "hashlib.md5(b'aaa'*1000).hexdigest()"
   ]
  },
  {
   "cell_type": "code",
   "execution_count": 13,
   "metadata": {},
   "outputs": [
    {
     "data": {
      "text/plain": [
       "32"
      ]
     },
     "execution_count": 13,
     "metadata": {},
     "output_type": "execute_result"
    }
   ],
   "source": [
    "len('6ca003d00c9bb4569a4a27d751db7a89')"
   ]
  },
  {
   "cell_type": "markdown",
   "metadata": {},
   "source": [
    "#### I learned that each unique string (or binary representation of a string) has a unique hash result. Regardless of the length of the input string, the output string always has a length of 32 characters."
   ]
  },
  {
   "cell_type": "markdown",
   "metadata": {},
   "source": [
    "### Excersize 2.2"
   ]
  },
  {
   "cell_type": "code",
   "execution_count": 27,
   "metadata": {},
   "outputs": [
    {
     "data": {
      "text/plain": [
       "'6384e2b2184bcbf58eccf10ca7a6563c'"
      ]
     },
     "execution_count": 27,
     "metadata": {},
     "output_type": "execute_result"
    }
   ],
   "source": [
    "md5hasher = hashlib.md5()\n",
    "md5hasher.update(b'a')\n",
    "md5hasher.update(b'l')\n",
    "md5hasher.update(b'i')\n",
    "md5hasher.update(b'c')\n",
    "md5hasher.update(b'e')\n",
    "md5hasher.hexdigest()"
   ]
  },
  {
   "cell_type": "markdown",
   "metadata": {},
   "source": [
    "#### 5f4dcc3b5aa765d61d8327deb882cf99 - Google already identifies this as an MD5 hash of 'password'"
   ]
  },
  {
   "cell_type": "code",
   "execution_count": null,
   "metadata": {},
   "outputs": [],
   "source": []
  }
 ],
 "metadata": {
  "kernelspec": {
   "display_name": "Python 3",
   "language": "python",
   "name": "python3"
  },
  "language_info": {
   "codemirror_mode": {
    "name": "ipython",
    "version": 3
   },
   "file_extension": ".py",
   "mimetype": "text/x-python",
   "name": "python",
   "nbconvert_exporter": "python",
   "pygments_lexer": "ipython3",
   "version": "3.6.10"
  }
 },
 "nbformat": 4,
 "nbformat_minor": 4
}
